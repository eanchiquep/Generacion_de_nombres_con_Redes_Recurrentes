{
  "nbformat": 4,
  "nbformat_minor": 0,
  "metadata": {
    "colab": {
      "name": "regresiones_robustas.ipynb",
      "provenance": [],
      "authorship_tag": "ABX9TyMSZTnSYjUcdQWiCmzgp82k",
      "include_colab_link": true
    },
    "kernelspec": {
      "name": "python3",
      "display_name": "Python 3"
    },
    "language_info": {
      "name": "python"
    }
  },
  "cells": [
    {
      "cell_type": "markdown",
      "metadata": {
        "id": "view-in-github",
        "colab_type": "text"
      },
      "source": [
        "<a href=\"https://colab.research.google.com/github/eanchiquep/Machine_Learning_Google_Lab/blob/master/regresiones_robustas.ipynb\" target=\"_parent\"><img src=\"https://colab.research.google.com/assets/colab-badge.svg\" alt=\"Open In Colab\"/></a>"
      ]
    },
    {
      "cell_type": "code",
      "metadata": {
        "id": "6Nv93-853jfw"
      },
      "source": [
        "# metodos para lidiar con valores atipicos sin necesidad de eliminarlos en el preprocesamiento\n",
        "# existen 2 metodos el skleanr ransac y ruber regressor\n",
        "# ransac intensa sacar valores atipicos y ruber los penaliza pero no los saca se usa epsilon de 1.35 que viene por defecto"
      ],
      "execution_count": null,
      "outputs": []
    },
    {
      "cell_type": "code",
      "metadata": {
        "id": "EEMexmL34WdI"
      },
      "source": [
        "import pandas as pd\n",
        "import sklearn\n",
        "from sklearn.linear_model import (\n",
        "    RANSACRegressor, HuberRegressor\n",
        ")\n",
        "from sklearn.svm import SVR\n",
        "from sklearn.model_selection import train_test_split\n",
        "from sklearn.metrics import mean_squared_error"
      ],
      "execution_count": null,
      "outputs": []
    },
    {
      "cell_type": "code",
      "metadata": {
        "colab": {
          "base_uri": "https://localhost:8080/"
        },
        "id": "RQSaLA154Se9",
        "outputId": "6c8f8b53-cc8d-457e-e5a7-64254515dfb1"
      },
      "source": [
        "from google.colab import drive\n",
        "drive.mount('/content/drive/')"
      ],
      "execution_count": null,
      "outputs": [
        {
          "output_type": "stream",
          "text": [
            "Mounted at /content/drive/\n"
          ],
          "name": "stdout"
        }
      ]
    },
    {
      "cell_type": "code",
      "metadata": {
        "colab": {
          "base_uri": "https://localhost:8080/"
        },
        "id": "Z7s-3EUB6s0r",
        "outputId": "682f4187-8c13-4ee4-b992-b5e4473ed27f"
      },
      "source": [
        "%cd '/content/drive/My Drive/Colab Notebooks/db'\n",
        "!ls"
      ],
      "execution_count": null,
      "outputs": [
        {
          "output_type": "stream",
          "text": [
            "/content/drive/My Drive/Colab Notebooks/db\n",
            "AGRICULTURE.csv\t\t\t     Heart.csv\n",
            "bicicletas-compartidas.csv\t     london_merged.csv\n",
            "CO2.csv\t\t\t\t     meteorite-landings.csv\n",
            "covid_19_data.csv\t\t     meteorites_sum.csv\n",
            "diabetes.csv\t\t\t     poblacion.csv\n",
            "ELECTRICAL_ENERGY.csv\t\t     PUPOLATION.csv\n",
            "FOREST.csv\t\t\t     salarios.csv\n",
            "GlobalLandTemperaturesByCountry.csv  test.csv\n",
            "happy2017_corrupted.csv\t\t     test.xlsx\n",
            "happy2017_corrupted.xlsx\t     titanic.png\n",
            "happy2017.csv\t\t\t     titanic-test.csv\n",
            "happy2019.csv\t\t\t     titanic-train.csv\n"
          ],
          "name": "stdout"
        }
      ]
    },
    {
      "cell_type": "code",
      "metadata": {
        "id": "-H1K4GSk6zRn"
      },
      "source": [
        "dataset = pd.read_excel('happy2017_corrupted.xlsx')\n",
        "dataset = pd.DataFrame(dataset)\n",
        "x = dataset.drop(['Unnamed: 12','Country','Happiness.Rank','Happiness.Score'], axis=1)\n",
        "y = dataset['Happiness.Score']\n",
        "\n",
        "X_train, X_test, y_train, y_test = train_test_split(x,y, test_size = 0.3, random_state = 0)"
      ],
      "execution_count": null,
      "outputs": []
    },
    {
      "cell_type": "code",
      "metadata": {
        "id": "lJhcqKxU9dyG"
      },
      "source": [
        "estimadores = {\n",
        "    'SVR' : SVR(gamma= 'auto', C=1.0, epsilon= 0.1),\n",
        "    'RANSAC' : RANSACRegressor(),\n",
        "    'HUBER' : HuberRegressor(epsilon= 1.35)\n",
        "}"
      ],
      "execution_count": null,
      "outputs": []
    },
    {
      "cell_type": "code",
      "metadata": {
        "colab": {
          "base_uri": "https://localhost:8080/"
        },
        "id": "WLKH8bZK-ZSd",
        "outputId": "4ca695ea-61a5-4a22-9890-cae58a988fcc"
      },
      "source": [
        "for name, estimador in estimadores.items():\n",
        "  estimador.fit(X_train, y_train)\n",
        "  y_predict = estimador.predict(X_test)\n",
        "  print(name , mean_squared_error(y_test, y_predict))"
      ],
      "execution_count": null,
      "outputs": [
        {
          "output_type": "stream",
          "text": [
            "SVR 3.3729118511709776e+28\n",
            "RANSAC 4.236076566707415e+28\n",
            "HUBER 3.997849482627528e+28\n"
          ],
          "name": "stdout"
        }
      ]
    }
  ]
}