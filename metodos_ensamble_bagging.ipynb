{
  "nbformat": 4,
  "nbformat_minor": 0,
  "metadata": {
    "colab": {
      "name": "metodos_ensamble_bagging.ipynb",
      "provenance": [],
      "collapsed_sections": [],
      "authorship_tag": "ABX9TyPEEKVfvYLg/NvqX3ChBSwE",
      "include_colab_link": true
    },
    "kernelspec": {
      "name": "python3",
      "display_name": "Python 3"
    },
    "language_info": {
      "name": "python"
    }
  },
  "cells": [
    {
      "cell_type": "markdown",
      "metadata": {
        "id": "view-in-github",
        "colab_type": "text"
      },
      "source": [
        "<a href=\"https://colab.research.google.com/github/eanchiquep/Generacion_de_nombres_con_Redes_Recurrentes/blob/master/metodos_ensamble_bagging.ipynb\" target=\"_parent\"><img src=\"https://colab.research.google.com/assets/colab-badge.svg\" alt=\"Open In Colab\"/></a>"
      ]
    },
    {
      "cell_type": "code",
      "metadata": {
        "id": "YDSBMSOzrI13"
      },
      "source": [
        "# combinan diferentes metodos de ML con diferentes configuraciones y aplican un metodo para lograr obtener un consenso\n",
        "# han ganado muchas competencias de ML\n",
        "# Es una técnica usada en clasificación\n",
        "# Bagging, divide los datos de entrenamiento de manera aleatoria en diferentes \"bolsos\", con modelos iguales o diferentes, obteniendo una respuesta para al final intentar con un metodo de votación, elegir la respuesta.\n",
        "# modelos de ensamble basados en baggin --> random forest, voting classifiers/Regressors.\n",
        "# Boosting, viene de impulsar o propulsar, en una secuencia para volverse mas fuerte el modelo, a traves de repetición secuencial, no trabaja en paralelo, si no que se trabaja uno detras de otro, y cada modelo optiene una medida de error, la cual se la pasa al siguiente modelo para obtener una opinion consensuada.\n",
        "# modelos de ensamblado --> Adaboost, Gradient tree boosting, XGBoost\n",
        "# dentro de "
      ],
      "execution_count": null,
      "outputs": []
    },
    {
      "cell_type": "code",
      "metadata": {
        "id": "2PPT-cCHtp9x"
      },
      "source": [
        "import pandas as pd\n",
        "import sklearn\n",
        "from sklearn.model_selection import train_test_split\n",
        "from sklearn.metrics import accuracy_score\n",
        "\n",
        "from sklearn.neighbors import KNeighborsClassifier # \n",
        "from sklearn.ensemble import BaggingClassifier #\n",
        "from sklearn.linear_model import LogisticRegression\n",
        "from sklearn.svm import LinearSVC\n",
        "from sklearn.svm import SVC\n",
        "from sklearn.linear_model import SGDClassifier\n",
        "from sklearn.tree import DecisionTreeClassifier\n",
        "from sklearn.ensemble import RandomForestClassifier"
      ],
      "execution_count": null,
      "outputs": []
    },
    {
      "cell_type": "code",
      "metadata": {
        "colab": {
          "base_uri": "https://localhost:8080/"
        },
        "id": "P2aPO3R1sUQ1",
        "outputId": "edde392a-c4e1-4119-a977-7cb417cd760d"
      },
      "source": [
        "from google.colab import drive\n",
        "drive.mount('/content/drive/')"
      ],
      "execution_count": null,
      "outputs": [
        {
          "output_type": "stream",
          "text": [
            "Drive already mounted at /content/drive/; to attempt to forcibly remount, call drive.mount(\"/content/drive/\", force_remount=True).\n"
          ],
          "name": "stdout"
        }
      ]
    },
    {
      "cell_type": "code",
      "metadata": {
        "colab": {
          "base_uri": "https://localhost:8080/"
        },
        "id": "Z9jc0fxatg1v",
        "outputId": "410bd68f-750b-48b5-880f-a85d73770b24"
      },
      "source": [
        "%cd '/content/drive/My Drive/Colab Notebooks/db'\n",
        "!ls"
      ],
      "execution_count": null,
      "outputs": [
        {
          "output_type": "stream",
          "text": [
            "/content/drive/My Drive/Colab Notebooks/db\n",
            "AGRICULTURE.csv\t\t\t     Heart.csv\n",
            "bicicletas-compartidas.csv\t     london_merged.csv\n",
            "CO2.csv\t\t\t\t     meteorite-landings.csv\n",
            "covid_19_data.csv\t\t     meteorites_sum.csv\n",
            "diabetes.csv\t\t\t     poblacion.csv\n",
            "ELECTRICAL_ENERGY.csv\t\t     PUPOLATION.csv\n",
            "FOREST.csv\t\t\t     salarios.csv\n",
            "GlobalLandTemperaturesByCountry.csv  test.csv\n",
            "happy2017_corrupted.csv\t\t     test.xlsx\n",
            "happy2017_corrupted.xlsx\t     titanic.png\n",
            "happy2017.csv\t\t\t     titanic-test.csv\n",
            "happy2019.csv\t\t\t     titanic-train.csv\n"
          ],
          "name": "stdout"
        }
      ]
    },
    {
      "cell_type": "code",
      "metadata": {
        "colab": {
          "base_uri": "https://localhost:8080/"
        },
        "id": "hfGRMyvGt0Lr",
        "outputId": "cfa699c3-9a88-4f74-a779-c87a4cda322d"
      },
      "source": [
        "dataset = pd.read_csv('Heart.csv')\n",
        "dataset.isnull().sum()"
      ],
      "execution_count": null,
      "outputs": [
        {
          "output_type": "execute_result",
          "data": {
            "text/plain": [
              "Unnamed: 0    0\n",
              "Age           0\n",
              "Sex           0\n",
              "ChestPain     0\n",
              "RestBP        0\n",
              "Chol          0\n",
              "Fbs           0\n",
              "RestECG       0\n",
              "MaxHR         0\n",
              "ExAng         0\n",
              "Oldpeak       0\n",
              "Slope         0\n",
              "Ca            4\n",
              "Thal          2\n",
              "AHD           0\n",
              "dtype: int64"
            ]
          },
          "metadata": {
            "tags": []
          },
          "execution_count": 137
        }
      ]
    },
    {
      "cell_type": "code",
      "metadata": {
        "id": "wSv7Ys9kvLbR"
      },
      "source": [
        "dataset = dataset.drop('Unnamed: 0', axis = 1)"
      ],
      "execution_count": null,
      "outputs": []
    },
    {
      "cell_type": "code",
      "metadata": {
        "colab": {
          "base_uri": "https://localhost:8080/"
        },
        "id": "6OBeYeJKu1wv",
        "outputId": "dfec8f15-4012-43b4-a25a-21952c930c4b"
      },
      "source": [
        "dataset.columns"
      ],
      "execution_count": null,
      "outputs": [
        {
          "output_type": "execute_result",
          "data": {
            "text/plain": [
              "Index(['Age', 'Sex', 'ChestPain', 'RestBP', 'Chol', 'Fbs', 'RestECG', 'MaxHR',\n",
              "       'ExAng', 'Oldpeak', 'Slope', 'Ca', 'Thal', 'AHD'],\n",
              "      dtype='object')"
            ]
          },
          "metadata": {
            "tags": []
          },
          "execution_count": 139
        }
      ]
    },
    {
      "cell_type": "code",
      "metadata": {
        "colab": {
          "base_uri": "https://localhost:8080/"
        },
        "id": "agMltfWNu43m",
        "outputId": "9aeb7186-f5d7-4cf2-a882-a33801c33a17"
      },
      "source": [
        "dataset.info()"
      ],
      "execution_count": null,
      "outputs": [
        {
          "output_type": "stream",
          "text": [
            "<class 'pandas.core.frame.DataFrame'>\n",
            "RangeIndex: 303 entries, 0 to 302\n",
            "Data columns (total 14 columns):\n",
            " #   Column     Non-Null Count  Dtype  \n",
            "---  ------     --------------  -----  \n",
            " 0   Age        303 non-null    int64  \n",
            " 1   Sex        303 non-null    int64  \n",
            " 2   ChestPain  303 non-null    object \n",
            " 3   RestBP     303 non-null    int64  \n",
            " 4   Chol       303 non-null    int64  \n",
            " 5   Fbs        303 non-null    int64  \n",
            " 6   RestECG    303 non-null    int64  \n",
            " 7   MaxHR      303 non-null    int64  \n",
            " 8   ExAng      303 non-null    int64  \n",
            " 9   Oldpeak    303 non-null    float64\n",
            " 10  Slope      303 non-null    int64  \n",
            " 11  Ca         299 non-null    float64\n",
            " 12  Thal       301 non-null    object \n",
            " 13  AHD        303 non-null    object \n",
            "dtypes: float64(2), int64(9), object(3)\n",
            "memory usage: 33.3+ KB\n"
          ],
          "name": "stdout"
        }
      ]
    },
    {
      "cell_type": "code",
      "metadata": {
        "colab": {
          "base_uri": "https://localhost:8080/"
        },
        "id": "zhVLJMMGvAxT",
        "outputId": "84988ec0-8cac-4994-9c03-197b864cd849"
      },
      "source": [
        "dataset['Thal'].unique()"
      ],
      "execution_count": null,
      "outputs": [
        {
          "output_type": "execute_result",
          "data": {
            "text/plain": [
              "array(['fixed', 'normal', 'reversable', nan], dtype=object)"
            ]
          },
          "metadata": {
            "tags": []
          },
          "execution_count": 141
        }
      ]
    },
    {
      "cell_type": "code",
      "metadata": {
        "id": "ZdZDseLpwJJV"
      },
      "source": [
        "dataset = dataset.fillna(dataset.median())\n",
        "dataset = dataset.drop(['ChestPain','Thal'], axis = 1)"
      ],
      "execution_count": null,
      "outputs": []
    },
    {
      "cell_type": "code",
      "metadata": {
        "colab": {
          "base_uri": "https://localhost:8080/"
        },
        "id": "CPl3KtvVwxFm",
        "outputId": "ecdc1777-ca05-4ab1-c199-940c0252d0ab"
      },
      "source": [
        "dataset.isnull().sum()"
      ],
      "execution_count": null,
      "outputs": [
        {
          "output_type": "execute_result",
          "data": {
            "text/plain": [
              "Age        0\n",
              "Sex        0\n",
              "RestBP     0\n",
              "Chol       0\n",
              "Fbs        0\n",
              "RestECG    0\n",
              "MaxHR      0\n",
              "ExAng      0\n",
              "Oldpeak    0\n",
              "Slope      0\n",
              "Ca         0\n",
              "AHD        0\n",
              "dtype: int64"
            ]
          },
          "metadata": {
            "tags": []
          },
          "execution_count": 143
        }
      ]
    },
    {
      "cell_type": "code",
      "metadata": {
        "id": "PKOtWS2pwW6Q"
      },
      "source": [
        "#dataset['Thal'] = dataset['Thal'].fillna('normal')\n"
      ],
      "execution_count": null,
      "outputs": []
    },
    {
      "cell_type": "code",
      "metadata": {
        "colab": {
          "base_uri": "https://localhost:8080/"
        },
        "id": "3XDz5UY5xRRS",
        "outputId": "435eb39b-6966-40a1-a0d7-d95f047d3c89"
      },
      "source": [
        "dataset.isnull().sum()"
      ],
      "execution_count": null,
      "outputs": [
        {
          "output_type": "execute_result",
          "data": {
            "text/plain": [
              "Age        0\n",
              "Sex        0\n",
              "RestBP     0\n",
              "Chol       0\n",
              "Fbs        0\n",
              "RestECG    0\n",
              "MaxHR      0\n",
              "ExAng      0\n",
              "Oldpeak    0\n",
              "Slope      0\n",
              "Ca         0\n",
              "AHD        0\n",
              "dtype: int64"
            ]
          },
          "metadata": {
            "tags": []
          },
          "execution_count": 145
        }
      ]
    },
    {
      "cell_type": "code",
      "metadata": {
        "id": "KMo2GHrpv0np"
      },
      "source": [
        "#dataset_preprocesado = pd.get_dummies(dataset, drop_first=True)\n",
        "#dataset_preprocesado.columns"
      ],
      "execution_count": null,
      "outputs": []
    },
    {
      "cell_type": "code",
      "metadata": {
        "id": "x9oQwHPByrYD"
      },
      "source": [
        "x = dataset.drop('AHD', axis=1)\n",
        "y = dataset['AHD']"
      ],
      "execution_count": null,
      "outputs": []
    },
    {
      "cell_type": "code",
      "metadata": {
        "id": "Aqlx4hCczGPF"
      },
      "source": [
        "X_train, X_test, y_train, y_test = train_test_split(x,y, test_size = 0.25, random_state = 20)"
      ],
      "execution_count": null,
      "outputs": []
    },
    {
      "cell_type": "code",
      "metadata": {
        "id": "lAul38oi00qL"
      },
      "source": [
        "metodos = {\n",
        "    'Knn' : KNeighborsClassifier(),\n",
        "    'LogisticRegression' : LogisticRegression(max_iter=1000),\n",
        "    'LinearSVC' : LinearSVC(max_iter=1000),\n",
        "    'SVC' : SVC(max_iter=1000),\n",
        "    'SGDClassifier' : SGDClassifier(max_iter=1000),\n",
        "    'DecisionTreeClassifier': DecisionTreeClassifier(),\n",
        "    'RandomForestClassifier' : RandomForestClassifier()\n",
        "}"
      ],
      "execution_count": null,
      "outputs": []
    },
    {
      "cell_type": "code",
      "metadata": {
        "colab": {
          "base_uri": "https://localhost:8080/"
        },
        "id": "9m6HActa1Nb1",
        "outputId": "54c5bb59-bc85-4251-da83-7040c0d4a516"
      },
      "source": [
        "for name, metodo in metodos.items():\n",
        "  Bag_class = BaggingClassifier(base_estimator = metodo, n_estimators=5).fit(X_train, y_train)\n",
        "  y_predict = Bag_class.predict(X_test)\n",
        "  print(name, accuracy_score(y_test,y_predict))"
      ],
      "execution_count": null,
      "outputs": [
        {
          "output_type": "stream",
          "text": [
            "Knn 0.7236842105263158\n",
            "LogisticRegression 0.8157894736842105\n",
            "LinearSVC 0.7894736842105263\n",
            "SVC 0.7368421052631579\n",
            "SGDClassifier 0.6842105263157895\n",
            "DecisionTreeClassifier 0.75\n"
          ],
          "name": "stdout"
        },
        {
          "output_type": "stream",
          "text": [
            "/usr/local/lib/python3.7/dist-packages/sklearn/svm/_base.py:947: ConvergenceWarning: Liblinear failed to converge, increase the number of iterations.\n",
            "  \"the number of iterations.\", ConvergenceWarning)\n",
            "/usr/local/lib/python3.7/dist-packages/sklearn/svm/_base.py:947: ConvergenceWarning: Liblinear failed to converge, increase the number of iterations.\n",
            "  \"the number of iterations.\", ConvergenceWarning)\n",
            "/usr/local/lib/python3.7/dist-packages/sklearn/svm/_base.py:947: ConvergenceWarning: Liblinear failed to converge, increase the number of iterations.\n",
            "  \"the number of iterations.\", ConvergenceWarning)\n",
            "/usr/local/lib/python3.7/dist-packages/sklearn/svm/_base.py:947: ConvergenceWarning: Liblinear failed to converge, increase the number of iterations.\n",
            "  \"the number of iterations.\", ConvergenceWarning)\n",
            "/usr/local/lib/python3.7/dist-packages/sklearn/svm/_base.py:947: ConvergenceWarning: Liblinear failed to converge, increase the number of iterations.\n",
            "  \"the number of iterations.\", ConvergenceWarning)\n"
          ],
          "name": "stderr"
        },
        {
          "output_type": "stream",
          "text": [
            "RandomForestClassifier 0.8289473684210527\n"
          ],
          "name": "stdout"
        }
      ]
    }
  ]
}