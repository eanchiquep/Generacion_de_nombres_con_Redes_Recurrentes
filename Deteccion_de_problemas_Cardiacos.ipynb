{
  "nbformat": 4,
  "nbformat_minor": 0,
  "metadata": {
    "colab": {
      "name": "Deteccion_de_problemas_Cardiacos.ipynb",
      "provenance": [],
      "authorship_tag": "ABX9TyPW06MmV2o/NvfoxjwoEWjM",
      "include_colab_link": true
    },
    "kernelspec": {
      "name": "python3",
      "display_name": "Python 3"
    },
    "language_info": {
      "name": "python"
    }
  },
  "cells": [
    {
      "cell_type": "markdown",
      "metadata": {
        "id": "view-in-github",
        "colab_type": "text"
      },
      "source": [
        "<a href=\"https://colab.research.google.com/github/eanchiquep/Machine_Learning_Google_Lab/blob/master/Deteccion_de_problemas_Cardiacos.ipynb\" target=\"_parent\"><img src=\"https://colab.research.google.com/assets/colab-badge.svg\" alt=\"Open In Colab\"/></a>"
      ]
    },
    {
      "cell_type": "code",
      "metadata": {
        "id": "uIG_3rACgL_B"
      },
      "source": [
        "from google.colab import drive\n",
        "import pandas as pd\n",
        "import numpy as np\n",
        "import matplotlib.pyplot as plt\n",
        "from sklearn.linear_model import LogisticRegression\n",
        "from sklearn.ensemble import RandomForestClassifier\n",
        "from sklearn.svm import SVC\n",
        "from sklearn.metrics import roc_curve, roc_auc_score\n",
        "from sklearn.model_selection import train_test_split\n",
        "import random"
      ],
      "execution_count": null,
      "outputs": []
    },
    {
      "cell_type": "code",
      "metadata": {
        "colab": {
          "base_uri": "https://localhost:8080/"
        },
        "id": "xlZfb99ngvLq",
        "outputId": "a9819134-72dd-4a76-fd59-a75424b3d6c6"
      },
      "source": [
        "drive.mount('/content/drive')"
      ],
      "execution_count": null,
      "outputs": [
        {
          "output_type": "stream",
          "text": [
            "Mounted at /content/drive\n"
          ],
          "name": "stdout"
        }
      ]
    },
    {
      "cell_type": "code",
      "metadata": {
        "colab": {
          "base_uri": "https://localhost:8080/"
        },
        "id": "HxMu-ZQGg7hw",
        "outputId": "82f65e4b-e032-49d8-bdab-c8711d7a661e"
      },
      "source": [
        "%cd /content/drive/MyDrive/Colab Notebooks/Machine_learning_udemy/DATASETS\n",
        "!ls"
      ],
      "execution_count": null,
      "outputs": [
        {
          "output_type": "stream",
          "text": [
            "/content/drive/MyDrive/Colab Notebooks/Machine_learning_udemy/DATASETS\n",
            " Advertising.csv\t       ecom-expense\n",
            " Athelete_Country_Map.csv      gender-purchase\n",
            " Athelete_Sports_Map.csv       heart.csv\n",
            " auto\t\t\t       House-price\n",
            " bank\t\t\t       Medals.csv\n",
            "'Customer Churn Columns.csv'  'Tab Customer Churn Model.txt'\n",
            "'Customer Churn Model.csv'     titanic3.csv\n",
            "'Customer Churn Model.txt'     winequality-red.csv\n",
            " distributed-data\n"
          ],
          "name": "stdout"
        }
      ]
    },
    {
      "cell_type": "code",
      "metadata": {
        "colab": {
          "base_uri": "https://localhost:8080/",
          "height": 402
        },
        "id": "BQS3Pr0qhPQh",
        "outputId": "c6573d6d-053f-4596-8caf-9fc75bd04260"
      },
      "source": [
        "data = pd.read_csv('heart.csv')\n",
        "data"
      ],
      "execution_count": null,
      "outputs": [
        {
          "output_type": "execute_result",
          "data": {
            "text/html": [
              "<div>\n",
              "<style scoped>\n",
              "    .dataframe tbody tr th:only-of-type {\n",
              "        vertical-align: middle;\n",
              "    }\n",
              "\n",
              "    .dataframe tbody tr th {\n",
              "        vertical-align: top;\n",
              "    }\n",
              "\n",
              "    .dataframe thead th {\n",
              "        text-align: right;\n",
              "    }\n",
              "</style>\n",
              "<table border=\"1\" class=\"dataframe\">\n",
              "  <thead>\n",
              "    <tr style=\"text-align: right;\">\n",
              "      <th></th>\n",
              "      <th>age</th>\n",
              "      <th>sex</th>\n",
              "      <th>cp</th>\n",
              "      <th>trtbps</th>\n",
              "      <th>chol</th>\n",
              "      <th>fbs</th>\n",
              "      <th>restecg</th>\n",
              "      <th>thalachh</th>\n",
              "      <th>exng</th>\n",
              "      <th>oldpeak</th>\n",
              "      <th>slp</th>\n",
              "      <th>caa</th>\n",
              "      <th>thall</th>\n",
              "      <th>output</th>\n",
              "    </tr>\n",
              "  </thead>\n",
              "  <tbody>\n",
              "    <tr>\n",
              "      <th>0</th>\n",
              "      <td>63</td>\n",
              "      <td>1</td>\n",
              "      <td>3</td>\n",
              "      <td>145</td>\n",
              "      <td>233</td>\n",
              "      <td>1</td>\n",
              "      <td>0</td>\n",
              "      <td>150</td>\n",
              "      <td>0</td>\n",
              "      <td>2.3</td>\n",
              "      <td>0</td>\n",
              "      <td>0</td>\n",
              "      <td>1</td>\n",
              "      <td>1</td>\n",
              "    </tr>\n",
              "    <tr>\n",
              "      <th>1</th>\n",
              "      <td>37</td>\n",
              "      <td>1</td>\n",
              "      <td>2</td>\n",
              "      <td>130</td>\n",
              "      <td>250</td>\n",
              "      <td>0</td>\n",
              "      <td>1</td>\n",
              "      <td>187</td>\n",
              "      <td>0</td>\n",
              "      <td>3.5</td>\n",
              "      <td>0</td>\n",
              "      <td>0</td>\n",
              "      <td>2</td>\n",
              "      <td>1</td>\n",
              "    </tr>\n",
              "    <tr>\n",
              "      <th>2</th>\n",
              "      <td>41</td>\n",
              "      <td>0</td>\n",
              "      <td>1</td>\n",
              "      <td>130</td>\n",
              "      <td>204</td>\n",
              "      <td>0</td>\n",
              "      <td>0</td>\n",
              "      <td>172</td>\n",
              "      <td>0</td>\n",
              "      <td>1.4</td>\n",
              "      <td>2</td>\n",
              "      <td>0</td>\n",
              "      <td>2</td>\n",
              "      <td>1</td>\n",
              "    </tr>\n",
              "    <tr>\n",
              "      <th>3</th>\n",
              "      <td>56</td>\n",
              "      <td>1</td>\n",
              "      <td>1</td>\n",
              "      <td>120</td>\n",
              "      <td>236</td>\n",
              "      <td>0</td>\n",
              "      <td>1</td>\n",
              "      <td>178</td>\n",
              "      <td>0</td>\n",
              "      <td>0.8</td>\n",
              "      <td>2</td>\n",
              "      <td>0</td>\n",
              "      <td>2</td>\n",
              "      <td>1</td>\n",
              "    </tr>\n",
              "    <tr>\n",
              "      <th>4</th>\n",
              "      <td>57</td>\n",
              "      <td>0</td>\n",
              "      <td>0</td>\n",
              "      <td>120</td>\n",
              "      <td>354</td>\n",
              "      <td>0</td>\n",
              "      <td>1</td>\n",
              "      <td>163</td>\n",
              "      <td>1</td>\n",
              "      <td>0.6</td>\n",
              "      <td>2</td>\n",
              "      <td>0</td>\n",
              "      <td>2</td>\n",
              "      <td>1</td>\n",
              "    </tr>\n",
              "    <tr>\n",
              "      <th>...</th>\n",
              "      <td>...</td>\n",
              "      <td>...</td>\n",
              "      <td>...</td>\n",
              "      <td>...</td>\n",
              "      <td>...</td>\n",
              "      <td>...</td>\n",
              "      <td>...</td>\n",
              "      <td>...</td>\n",
              "      <td>...</td>\n",
              "      <td>...</td>\n",
              "      <td>...</td>\n",
              "      <td>...</td>\n",
              "      <td>...</td>\n",
              "      <td>...</td>\n",
              "    </tr>\n",
              "    <tr>\n",
              "      <th>298</th>\n",
              "      <td>57</td>\n",
              "      <td>0</td>\n",
              "      <td>0</td>\n",
              "      <td>140</td>\n",
              "      <td>241</td>\n",
              "      <td>0</td>\n",
              "      <td>1</td>\n",
              "      <td>123</td>\n",
              "      <td>1</td>\n",
              "      <td>0.2</td>\n",
              "      <td>1</td>\n",
              "      <td>0</td>\n",
              "      <td>3</td>\n",
              "      <td>0</td>\n",
              "    </tr>\n",
              "    <tr>\n",
              "      <th>299</th>\n",
              "      <td>45</td>\n",
              "      <td>1</td>\n",
              "      <td>3</td>\n",
              "      <td>110</td>\n",
              "      <td>264</td>\n",
              "      <td>0</td>\n",
              "      <td>1</td>\n",
              "      <td>132</td>\n",
              "      <td>0</td>\n",
              "      <td>1.2</td>\n",
              "      <td>1</td>\n",
              "      <td>0</td>\n",
              "      <td>3</td>\n",
              "      <td>0</td>\n",
              "    </tr>\n",
              "    <tr>\n",
              "      <th>300</th>\n",
              "      <td>68</td>\n",
              "      <td>1</td>\n",
              "      <td>0</td>\n",
              "      <td>144</td>\n",
              "      <td>193</td>\n",
              "      <td>1</td>\n",
              "      <td>1</td>\n",
              "      <td>141</td>\n",
              "      <td>0</td>\n",
              "      <td>3.4</td>\n",
              "      <td>1</td>\n",
              "      <td>2</td>\n",
              "      <td>3</td>\n",
              "      <td>0</td>\n",
              "    </tr>\n",
              "    <tr>\n",
              "      <th>301</th>\n",
              "      <td>57</td>\n",
              "      <td>1</td>\n",
              "      <td>0</td>\n",
              "      <td>130</td>\n",
              "      <td>131</td>\n",
              "      <td>0</td>\n",
              "      <td>1</td>\n",
              "      <td>115</td>\n",
              "      <td>1</td>\n",
              "      <td>1.2</td>\n",
              "      <td>1</td>\n",
              "      <td>1</td>\n",
              "      <td>3</td>\n",
              "      <td>0</td>\n",
              "    </tr>\n",
              "    <tr>\n",
              "      <th>302</th>\n",
              "      <td>57</td>\n",
              "      <td>0</td>\n",
              "      <td>1</td>\n",
              "      <td>130</td>\n",
              "      <td>236</td>\n",
              "      <td>0</td>\n",
              "      <td>0</td>\n",
              "      <td>174</td>\n",
              "      <td>0</td>\n",
              "      <td>0.0</td>\n",
              "      <td>1</td>\n",
              "      <td>1</td>\n",
              "      <td>2</td>\n",
              "      <td>0</td>\n",
              "    </tr>\n",
              "  </tbody>\n",
              "</table>\n",
              "<p>303 rows × 14 columns</p>\n",
              "</div>"
            ],
            "text/plain": [
              "     age  sex  cp  trtbps  chol  fbs  ...  exng  oldpeak  slp  caa  thall  output\n",
              "0     63    1   3     145   233    1  ...     0      2.3    0    0      1       1\n",
              "1     37    1   2     130   250    0  ...     0      3.5    0    0      2       1\n",
              "2     41    0   1     130   204    0  ...     0      1.4    2    0      2       1\n",
              "3     56    1   1     120   236    0  ...     0      0.8    2    0      2       1\n",
              "4     57    0   0     120   354    0  ...     1      0.6    2    0      2       1\n",
              "..   ...  ...  ..     ...   ...  ...  ...   ...      ...  ...  ...    ...     ...\n",
              "298   57    0   0     140   241    0  ...     1      0.2    1    0      3       0\n",
              "299   45    1   3     110   264    0  ...     0      1.2    1    0      3       0\n",
              "300   68    1   0     144   193    1  ...     0      3.4    1    2      3       0\n",
              "301   57    1   0     130   131    0  ...     1      1.2    1    1      3       0\n",
              "302   57    0   1     130   236    0  ...     0      0.0    1    1      2       0\n",
              "\n",
              "[303 rows x 14 columns]"
            ]
          },
          "metadata": {
            "tags": []
          },
          "execution_count": 15
        }
      ]
    },
    {
      "cell_type": "markdown",
      "metadata": {
        "id": "NCN09CAppfbm"
      },
      "source": [
        "# ANALISIS EXPLORATORIO"
      ]
    },
    {
      "cell_type": "code",
      "metadata": {
        "colab": {
          "base_uri": "https://localhost:8080/"
        },
        "id": "Ou2v-4kmpjbW",
        "outputId": "26531a20-fe53-4671-9bd7-20994824bdfc"
      },
      "source": [
        "data.isnull().sum() # comprobamos valores nulos # el dataset no cuenta con valores nulos"
      ],
      "execution_count": null,
      "outputs": [
        {
          "output_type": "execute_result",
          "data": {
            "text/plain": [
              "age         0\n",
              "sex         0\n",
              "cp          0\n",
              "trtbps      0\n",
              "chol        0\n",
              "fbs         0\n",
              "restecg     0\n",
              "thalachh    0\n",
              "exng        0\n",
              "oldpeak     0\n",
              "slp         0\n",
              "caa         0\n",
              "thall       0\n",
              "output      0\n",
              "dtype: int64"
            ]
          },
          "metadata": {
            "tags": []
          },
          "execution_count": 316
        }
      ]
    },
    {
      "cell_type": "code",
      "metadata": {
        "colab": {
          "base_uri": "https://localhost:8080/"
        },
        "id": "S0QIkn9apv4M",
        "outputId": "591d5df4-5c1e-4c7a-c02c-68974777dca9"
      },
      "source": [
        "data.shape # comprobamos el tamaño del dataset, el dataset cuenta con 303 entradas y 14 variables o features"
      ],
      "execution_count": null,
      "outputs": [
        {
          "output_type": "execute_result",
          "data": {
            "text/plain": [
              "(303, 14)"
            ]
          },
          "metadata": {
            "tags": []
          },
          "execution_count": 317
        }
      ]
    },
    {
      "cell_type": "code",
      "metadata": {
        "colab": {
          "base_uri": "https://localhost:8080/",
          "height": 284
        },
        "id": "ekYaR5w7qBi3",
        "outputId": "f27b39a5-4fd1-41a5-86b8-c2e94585cb3a"
      },
      "source": [
        "data.describe()"
      ],
      "execution_count": null,
      "outputs": [
        {
          "output_type": "execute_result",
          "data": {
            "text/html": [
              "<div>\n",
              "<style scoped>\n",
              "    .dataframe tbody tr th:only-of-type {\n",
              "        vertical-align: middle;\n",
              "    }\n",
              "\n",
              "    .dataframe tbody tr th {\n",
              "        vertical-align: top;\n",
              "    }\n",
              "\n",
              "    .dataframe thead th {\n",
              "        text-align: right;\n",
              "    }\n",
              "</style>\n",
              "<table border=\"1\" class=\"dataframe\">\n",
              "  <thead>\n",
              "    <tr style=\"text-align: right;\">\n",
              "      <th></th>\n",
              "      <th>age</th>\n",
              "      <th>sex</th>\n",
              "      <th>cp</th>\n",
              "      <th>trtbps</th>\n",
              "      <th>chol</th>\n",
              "      <th>fbs</th>\n",
              "      <th>restecg</th>\n",
              "      <th>thalachh</th>\n",
              "      <th>exng</th>\n",
              "      <th>oldpeak</th>\n",
              "      <th>slp</th>\n",
              "      <th>caa</th>\n",
              "      <th>thall</th>\n",
              "      <th>output</th>\n",
              "    </tr>\n",
              "  </thead>\n",
              "  <tbody>\n",
              "    <tr>\n",
              "      <th>count</th>\n",
              "      <td>303.000000</td>\n",
              "      <td>303.000000</td>\n",
              "      <td>303.000000</td>\n",
              "      <td>303.000000</td>\n",
              "      <td>303.000000</td>\n",
              "      <td>303.000000</td>\n",
              "      <td>303.000000</td>\n",
              "      <td>303.000000</td>\n",
              "      <td>303.000000</td>\n",
              "      <td>303.000000</td>\n",
              "      <td>303.000000</td>\n",
              "      <td>303.000000</td>\n",
              "      <td>303.000000</td>\n",
              "      <td>303.000000</td>\n",
              "    </tr>\n",
              "    <tr>\n",
              "      <th>mean</th>\n",
              "      <td>54.366337</td>\n",
              "      <td>0.683168</td>\n",
              "      <td>0.966997</td>\n",
              "      <td>131.623762</td>\n",
              "      <td>246.264026</td>\n",
              "      <td>0.148515</td>\n",
              "      <td>0.528053</td>\n",
              "      <td>149.646865</td>\n",
              "      <td>0.326733</td>\n",
              "      <td>1.039604</td>\n",
              "      <td>1.399340</td>\n",
              "      <td>0.729373</td>\n",
              "      <td>2.313531</td>\n",
              "      <td>0.544554</td>\n",
              "    </tr>\n",
              "    <tr>\n",
              "      <th>std</th>\n",
              "      <td>9.082101</td>\n",
              "      <td>0.466011</td>\n",
              "      <td>1.032052</td>\n",
              "      <td>17.538143</td>\n",
              "      <td>51.830751</td>\n",
              "      <td>0.356198</td>\n",
              "      <td>0.525860</td>\n",
              "      <td>22.905161</td>\n",
              "      <td>0.469794</td>\n",
              "      <td>1.161075</td>\n",
              "      <td>0.616226</td>\n",
              "      <td>1.022606</td>\n",
              "      <td>0.612277</td>\n",
              "      <td>0.498835</td>\n",
              "    </tr>\n",
              "    <tr>\n",
              "      <th>min</th>\n",
              "      <td>29.000000</td>\n",
              "      <td>0.000000</td>\n",
              "      <td>0.000000</td>\n",
              "      <td>94.000000</td>\n",
              "      <td>126.000000</td>\n",
              "      <td>0.000000</td>\n",
              "      <td>0.000000</td>\n",
              "      <td>71.000000</td>\n",
              "      <td>0.000000</td>\n",
              "      <td>0.000000</td>\n",
              "      <td>0.000000</td>\n",
              "      <td>0.000000</td>\n",
              "      <td>0.000000</td>\n",
              "      <td>0.000000</td>\n",
              "    </tr>\n",
              "    <tr>\n",
              "      <th>25%</th>\n",
              "      <td>47.500000</td>\n",
              "      <td>0.000000</td>\n",
              "      <td>0.000000</td>\n",
              "      <td>120.000000</td>\n",
              "      <td>211.000000</td>\n",
              "      <td>0.000000</td>\n",
              "      <td>0.000000</td>\n",
              "      <td>133.500000</td>\n",
              "      <td>0.000000</td>\n",
              "      <td>0.000000</td>\n",
              "      <td>1.000000</td>\n",
              "      <td>0.000000</td>\n",
              "      <td>2.000000</td>\n",
              "      <td>0.000000</td>\n",
              "    </tr>\n",
              "    <tr>\n",
              "      <th>50%</th>\n",
              "      <td>55.000000</td>\n",
              "      <td>1.000000</td>\n",
              "      <td>1.000000</td>\n",
              "      <td>130.000000</td>\n",
              "      <td>240.000000</td>\n",
              "      <td>0.000000</td>\n",
              "      <td>1.000000</td>\n",
              "      <td>153.000000</td>\n",
              "      <td>0.000000</td>\n",
              "      <td>0.800000</td>\n",
              "      <td>1.000000</td>\n",
              "      <td>0.000000</td>\n",
              "      <td>2.000000</td>\n",
              "      <td>1.000000</td>\n",
              "    </tr>\n",
              "    <tr>\n",
              "      <th>75%</th>\n",
              "      <td>61.000000</td>\n",
              "      <td>1.000000</td>\n",
              "      <td>2.000000</td>\n",
              "      <td>140.000000</td>\n",
              "      <td>274.500000</td>\n",
              "      <td>0.000000</td>\n",
              "      <td>1.000000</td>\n",
              "      <td>166.000000</td>\n",
              "      <td>1.000000</td>\n",
              "      <td>1.600000</td>\n",
              "      <td>2.000000</td>\n",
              "      <td>1.000000</td>\n",
              "      <td>3.000000</td>\n",
              "      <td>1.000000</td>\n",
              "    </tr>\n",
              "    <tr>\n",
              "      <th>max</th>\n",
              "      <td>77.000000</td>\n",
              "      <td>1.000000</td>\n",
              "      <td>3.000000</td>\n",
              "      <td>200.000000</td>\n",
              "      <td>564.000000</td>\n",
              "      <td>1.000000</td>\n",
              "      <td>2.000000</td>\n",
              "      <td>202.000000</td>\n",
              "      <td>1.000000</td>\n",
              "      <td>6.200000</td>\n",
              "      <td>2.000000</td>\n",
              "      <td>4.000000</td>\n",
              "      <td>3.000000</td>\n",
              "      <td>1.000000</td>\n",
              "    </tr>\n",
              "  </tbody>\n",
              "</table>\n",
              "</div>"
            ],
            "text/plain": [
              "              age         sex          cp  ...         caa       thall      output\n",
              "count  303.000000  303.000000  303.000000  ...  303.000000  303.000000  303.000000\n",
              "mean    54.366337    0.683168    0.966997  ...    0.729373    2.313531    0.544554\n",
              "std      9.082101    0.466011    1.032052  ...    1.022606    0.612277    0.498835\n",
              "min     29.000000    0.000000    0.000000  ...    0.000000    0.000000    0.000000\n",
              "25%     47.500000    0.000000    0.000000  ...    0.000000    2.000000    0.000000\n",
              "50%     55.000000    1.000000    1.000000  ...    0.000000    2.000000    1.000000\n",
              "75%     61.000000    1.000000    2.000000  ...    1.000000    3.000000    1.000000\n",
              "max     77.000000    1.000000    3.000000  ...    4.000000    3.000000    1.000000\n",
              "\n",
              "[8 rows x 14 columns]"
            ]
          },
          "metadata": {
            "tags": []
          },
          "execution_count": 319
        }
      ]
    },
    {
      "cell_type": "markdown",
      "metadata": {
        "id": "8rzSQBhf4dDz"
      },
      "source": [
        "REALIZAMOS LA PRUEBA PARA SELECCIONAR LAS COLUMNAS MAS REPRESENTATIVAS A TRAVES DE LA LIBRERIA RFE, ANALIZANDO EL AREA BAJO LA CURVA DE LA CURVA ROC, PARA CADA MODELO VARIANDO LA CANTIDAD DE VARIABLES, PARA SABER CON CUANTAS VARIABLES Y CON CUALES DEBO QUEDARME\n",
        "\n"
      ]
    },
    {
      "cell_type": "code",
      "metadata": {
        "id": "UHwjDzVZhzBx"
      },
      "source": [
        "from sklearn.feature_selection import RFE \n",
        "\n",
        "X = data[['age', 'sex', 'cp', 'trtbps', 'chol', 'fbs', 'restecg', 'thalachh','exng', 'oldpeak', 'slp', 'caa', 'thall']]\n",
        "columns_feature = X.columns.tolist()\n",
        "\n",
        "y = data['output']\n",
        "\n",
        "support_models = []\n",
        "scores = []\n",
        "\n",
        "for i in range(1,len(columns_feature)+1):\n",
        "    lr = LogisticRegression(max_iter=10000)\n",
        "    rfe = RFE(lr, n_features_to_select=i)\n",
        "    rfe.fit(X,y)\n",
        "\n",
        "    proba = rfe.predict_proba(X)\n",
        "    y_predict = proba[:,1]\n",
        "\n",
        "    scores.append(roc_auc_score(y,y_predict))\n",
        "    support_models.append(rfe.support_)\n",
        "\n",
        "dictio = {}\n",
        "dictio['Support_models'] = support_models\n",
        "dictio['Auc_score'] = scores"
      ],
      "execution_count": null,
      "outputs": []
    },
    {
      "cell_type": "code",
      "metadata": {
        "colab": {
          "base_uri": "https://localhost:8080/",
          "height": 432
        },
        "id": "Tg7tby5eoX4A",
        "outputId": "feb93ab9-8b16-4eae-cb66-c6bff2099a28"
      },
      "source": [
        "# Graficamos el valor del área bajo la curva de cada modelo vs el numero de features\n",
        "rend_features_df = pd.DataFrame(dictio)\n",
        "rend_features_df"
      ],
      "execution_count": null,
      "outputs": [
        {
          "output_type": "execute_result",
          "data": {
            "text/html": [
              "<div>\n",
              "<style scoped>\n",
              "    .dataframe tbody tr th:only-of-type {\n",
              "        vertical-align: middle;\n",
              "    }\n",
              "\n",
              "    .dataframe tbody tr th {\n",
              "        vertical-align: top;\n",
              "    }\n",
              "\n",
              "    .dataframe thead th {\n",
              "        text-align: right;\n",
              "    }\n",
              "</style>\n",
              "<table border=\"1\" class=\"dataframe\">\n",
              "  <thead>\n",
              "    <tr style=\"text-align: right;\">\n",
              "      <th></th>\n",
              "      <th>Support_models</th>\n",
              "      <th>Auc_score</th>\n",
              "    </tr>\n",
              "  </thead>\n",
              "  <tbody>\n",
              "    <tr>\n",
              "      <th>0</th>\n",
              "      <td>[False, False, False, False, False, False, Fal...</td>\n",
              "      <td>0.705665</td>\n",
              "    </tr>\n",
              "    <tr>\n",
              "      <th>1</th>\n",
              "      <td>[False, True, False, False, False, False, Fals...</td>\n",
              "      <td>0.767896</td>\n",
              "    </tr>\n",
              "    <tr>\n",
              "      <th>2</th>\n",
              "      <td>[False, True, False, False, False, False, Fals...</td>\n",
              "      <td>0.812275</td>\n",
              "    </tr>\n",
              "    <tr>\n",
              "      <th>3</th>\n",
              "      <td>[False, True, False, False, False, False, Fals...</td>\n",
              "      <td>0.839350</td>\n",
              "    </tr>\n",
              "    <tr>\n",
              "      <th>4</th>\n",
              "      <td>[False, True, False, False, False, False, Fals...</td>\n",
              "      <td>0.880764</td>\n",
              "    </tr>\n",
              "    <tr>\n",
              "      <th>5</th>\n",
              "      <td>[False, True, True, False, False, False, False...</td>\n",
              "      <td>0.903733</td>\n",
              "    </tr>\n",
              "    <tr>\n",
              "      <th>6</th>\n",
              "      <td>[False, True, True, False, False, False, False...</td>\n",
              "      <td>0.910870</td>\n",
              "    </tr>\n",
              "    <tr>\n",
              "      <th>7</th>\n",
              "      <td>[False, True, True, False, False, False, True,...</td>\n",
              "      <td>0.912780</td>\n",
              "    </tr>\n",
              "    <tr>\n",
              "      <th>8</th>\n",
              "      <td>[False, True, True, False, False, False, True,...</td>\n",
              "      <td>0.916381</td>\n",
              "    </tr>\n",
              "    <tr>\n",
              "      <th>9</th>\n",
              "      <td>[False, True, True, True, False, False, True, ...</td>\n",
              "      <td>0.923057</td>\n",
              "    </tr>\n",
              "    <tr>\n",
              "      <th>10</th>\n",
              "      <td>[False, True, True, True, True, False, True, T...</td>\n",
              "      <td>0.925121</td>\n",
              "    </tr>\n",
              "    <tr>\n",
              "      <th>11</th>\n",
              "      <td>[False, True, True, True, True, True, True, Tr...</td>\n",
              "      <td>0.925209</td>\n",
              "    </tr>\n",
              "    <tr>\n",
              "      <th>12</th>\n",
              "      <td>[True, True, True, True, True, True, True, Tru...</td>\n",
              "      <td>0.925033</td>\n",
              "    </tr>\n",
              "  </tbody>\n",
              "</table>\n",
              "</div>"
            ],
            "text/plain": [
              "                                       Support_models  Auc_score\n",
              "0   [False, False, False, False, False, False, Fal...   0.705665\n",
              "1   [False, True, False, False, False, False, Fals...   0.767896\n",
              "2   [False, True, False, False, False, False, Fals...   0.812275\n",
              "3   [False, True, False, False, False, False, Fals...   0.839350\n",
              "4   [False, True, False, False, False, False, Fals...   0.880764\n",
              "5   [False, True, True, False, False, False, False...   0.903733\n",
              "6   [False, True, True, False, False, False, False...   0.910870\n",
              "7   [False, True, True, False, False, False, True,...   0.912780\n",
              "8   [False, True, True, False, False, False, True,...   0.916381\n",
              "9   [False, True, True, True, False, False, True, ...   0.923057\n",
              "10  [False, True, True, True, True, False, True, T...   0.925121\n",
              "11  [False, True, True, True, True, True, True, Tr...   0.925209\n",
              "12  [True, True, True, True, True, True, True, Tru...   0.925033"
            ]
          },
          "metadata": {
            "tags": []
          },
          "execution_count": 194
        }
      ]
    },
    {
      "cell_type": "code",
      "metadata": {
        "colab": {
          "base_uri": "https://localhost:8080/",
          "height": 296
        },
        "id": "flAeXeYp5DR0",
        "outputId": "928fa6a7-a564-4a02-d232-9b3ee8cdf06e"
      },
      "source": [
        "plt.plot(scores)\n",
        "plt.xlabel(\"N_features\")\n",
        "plt.ylabel(\"ROC_AUC_SCORE\")\n",
        "plt.title(\"AUC_SCORE VS N_FEATURES\")\n",
        "plt.show()"
      ],
      "execution_count": null,
      "outputs": [
        {
          "output_type": "display_data",
          "data": {
            "image/png": "[encoded data removed]",
            "text/plain": [
              "<Figure size 432x288 with 1 Axes>"
            ]
          },
          "metadata": {
            "tags": [],
            "needs_background": "light"
          }
        }
      ]
    },
    {
      "cell_type": "markdown",
      "metadata": {
        "id": "Z3MzfGh-5aTD"
      },
      "source": [
        "Podemos observar que para un numero superior a 5 features la mejora en el AUC del modelo no es muy significativo y que a partir de 9 features el AUC es practicamente constante."
      ]
    },
    {
      "cell_type": "code",
      "metadata": {
        "id": "YmGxGyQp6HiF"
      },
      "source": [
        "# Trabajaremos con los 9 features mas representativos del modelo.\n",
        "\n",
        "n=8 # selecionamos el modelo correspondiente cuando posee 9 features selecionados\n",
        "\n",
        "T_F_feature = list(rend_features_df.iloc[[n],0].tolist()[0])"
      ],
      "execution_count": null,
      "outputs": []
    },
    {
      "cell_type": "code",
      "metadata": {
        "id": "TdpNZ4ZfkM4K"
      },
      "source": [
        "T_F_feature_DF = pd.DataFrame([columns_feature, T_F_feature], index=[\"column\",\"T_F\"]).T"
      ],
      "execution_count": null,
      "outputs": []
    },
    {
      "cell_type": "code",
      "metadata": {
        "colab": {
          "base_uri": "https://localhost:8080/"
        },
        "id": "7bA1X08jkfyL",
        "outputId": "1a0f9c3d-c818-4d10-fff3-ae474b88cce6"
      },
      "source": [
        "selected_features_df = T_F_feature_DF[T_F_feature_DF['T_F']==True]\n",
        "selected_features = selected_features_df['column'].tolist()\n",
        "print(selected_features)"
      ],
      "execution_count": null,
      "outputs": [
        {
          "output_type": "stream",
          "text": [
            "['sex', 'cp', 'restecg', 'thalachh', 'exng', 'oldpeak', 'slp', 'caa', 'thall']\n"
          ],
          "name": "stdout"
        }
      ]
    },
    {
      "cell_type": "markdown",
      "metadata": {
        "id": "KOA7kjK6gvKl"
      },
      "source": [
        "EVALUACIÓN DE DIFERENTES MODELOS TENIENDO EN CUENTA EL ROC_AUC"
      ]
    },
    {
      "cell_type": "code",
      "metadata": {
        "colab": {
          "base_uri": "https://localhost:8080/"
        },
        "id": "q7hKYsNza1-s",
        "outputId": "a0dabdda-d025-4877-fa4d-4198ae72ed82"
      },
      "source": [
        "models = {\"LR\" : LogisticRegression(max_iter=1000),\n",
        "          \"RF\" : RandomForestClassifier(),\n",
        "          \"SVC\" : SVC()}\n",
        "\n",
        "random.seed = 10\n",
        "\n",
        "from sklearn.model_selection import cross_val_score\n",
        "\n",
        "\n",
        "model_behaivour = {}\n",
        "\n",
        "for i,k in models.items():\n",
        "    score_cv = cross_val_score(models[i],X,y.values.ravel(), cv=10, scoring='roc_auc')\n",
        "    model_behaivour[i] = score_cv.mean()\n",
        "\n",
        "model_behaivour"
      ],
      "execution_count": null,
      "outputs": [
        {
          "output_type": "execute_result",
          "data": {
            "text/plain": [
              "{'LR': 0.9037209114414996, 'RF': 0.9057975113122172, 'SVC': 0.7448792016806725}"
            ]
          },
          "metadata": {
            "tags": []
          },
          "execution_count": 285
        }
      ]
    },
    {
      "cell_type": "markdown",
      "metadata": {
        "id": "BpL2W-10iXGy"
      },
      "source": [
        "Si observamos el modelo de clasificación de Regresión logistica tiene un AUC casi igual al modelo de Random Forest, mientras que el Suport Vector Clasiffier es el que peor se comporta"
      ]
    },
    {
      "cell_type": "markdown",
      "metadata": {
        "id": "gt22OoNfBrdg"
      },
      "source": [
        "Seleccionaremos el modelo de clasificación logistica debido a su simplicidad."
      ]
    },
    {
      "cell_type": "markdown",
      "metadata": {
        "id": "HWAho-UGi9v4"
      },
      "source": [
        "# Ahora Identificaremos el Mejor threshold o umbral de decisión del modelo \n"
      ]
    },
    {
      "cell_type": "code",
      "metadata": {
        "id": "v8rhO3xpJb22"
      },
      "source": [
        "lr.fit(X_train,y_train)\n",
        "proba = lr.predict_proba(X_test)\n",
        "y_proba = proba[:,1]"
      ],
      "execution_count": null,
      "outputs": []
    },
    {
      "cell_type": "code",
      "metadata": {
        "id": "kkyeZdupjiED"
      },
      "source": [
        "X_1 = data[selected_features]\n",
        "\n",
        "# realizamos partición del datasets en entrenamiento y testing, inicialmente con una validación de 75 training y 25 testing y posteriormente con K-fold cross-validation corroboramos que tan bien generaliza el modelo\n",
        "X_train, X_test, y_train, y_test = train_test_split(X_1,y, test_size=0.25,random_state=10)\n",
        "\n",
        "lr = LogisticRegression(max_iter=1000)"
      ],
      "execution_count": null,
      "outputs": []
    },
    {
      "cell_type": "code",
      "metadata": {
        "id": "wNNmvs2FJrp7"
      },
      "source": [
        "from sklearn.metrics import roc_curve\n",
        "\n",
        "especi_1, sensib, threshold_1 = roc_curve(y_test,y_proba)\n",
        "\n",
        "roc_table = pd.DataFrame([especi_1,sensib,threshold_1], index=['1-Especificidad','Sensibilidad','threshold']).T\n",
        "roc_table['mean_sensibility-specifity'] = ((1 - roc_table['1-Especificidad']) + roc_table['Sensibilidad'])/2\n"
      ],
      "execution_count": null,
      "outputs": []
    },
    {
      "cell_type": "code",
      "metadata": {
        "colab": {
          "base_uri": "https://localhost:8080/",
          "height": 312
        },
        "id": "zLbohlbHKrbZ",
        "outputId": "3fa462a4-c170-4a2d-c59d-e6914ee1bd7a"
      },
      "source": [
        "plt.plot(especi_1,sensib)\n",
        "plt.ylabel(\"Sensibility\")\n",
        "plt.xlabel('1-Especifity')\n",
        "plt.title('ROC_Curve')\n",
        "\n",
        "x= [i*0.01 for i in range(100)]\n",
        "y = [i*0.01 for i in range(100)]\n",
        "plt.plot(x,y)"
      ],
      "execution_count": null,
      "outputs": [
        {
          "output_type": "execute_result",
          "data": {
            "text/plain": [
              "[<matplotlib.lines.Line2D at 0x7f29e0678c90>]"
            ]
          },
          "metadata": {
            "tags": []
          },
          "execution_count": 291
        },
        {
          "output_type": "display_data",
          "data": {
            "image/png": "[encoded data removed]",
            "text/plain": [
              "<Figure size 432x288 with 1 Axes>"
            ]
          },
          "metadata": {
            "tags": [],
            "needs_background": "light"
          }
        }
      ]
    },
    {
      "cell_type": "markdown",
      "metadata": {
        "id": "keqKDoK5kDRL"
      },
      "source": [
        "Graficamente podemos observar que el mejor punto de sensibilidad vs 1-especificidad es de (0.146341,0.828571) respectivamente, para un threshold de 0.661686, en donde tendremos la mejor confianza del modelo para precedir tanto casos positivos y negativos"
      ]
    },
    {
      "cell_type": "markdown",
      "metadata": {
        "id": "2EAfmPi0lzqZ"
      },
      "source": [
        "AHORA PROBEMOS LOS RESULTADOS APLICANDO DICHO UMBRAL"
      ]
    },
    {
      "cell_type": "code",
      "metadata": {
        "colab": {
          "base_uri": "https://localhost:8080/"
        },
        "id": "QYxH-MF0l4Qq",
        "outputId": "423c0930-869b-416d-e686-66b56ef4401d"
      },
      "source": [
        "lr = LogisticRegression(max_iter=1000)\n",
        "lr.fit(X_train,y_train)\n",
        "proba = lr.predict_proba(X_test)\n",
        "y_proba = proba[:,1]"
      ],
      "execution_count": null,
      "outputs": [
        {
          "output_type": "execute_result",
          "data": {
            "text/plain": [
              "array([0.06898014, 0.4176155 , 0.36343177, 0.7007879 , 0.11768229,\n",
              "       0.6743042 , 0.79204846, 0.64436724, 0.89619023, 0.04878697,\n",
              "       0.93184903, 0.04633108, 0.59672852, 0.4468423 , 0.08734056,\n",
              "       0.42423599, 0.02561425, 0.00927772, 0.89928404, 0.09263493,\n",
              "       0.04765028, 0.89935586, 0.74196228, 0.94083635, 0.13498805,\n",
              "       0.08915983, 0.01495013, 0.12668475, 0.97263183, 0.00522308,\n",
              "       0.92821102, 0.12854985, 0.02300183, 0.23378593, 0.01227115,\n",
              "       0.13587902, 0.81524057, 0.44732222, 0.82199299, 0.06793529,\n",
              "       0.15767396, 0.04042571, 0.72860795, 0.66989345, 0.96681467,\n",
              "       0.4456775 , 0.64395916, 0.83180085, 0.78859229, 0.77405205,\n",
              "       0.34717134, 0.81926474, 0.04441373, 0.35651844, 0.98770856,\n",
              "       0.68507547, 0.73879971, 0.81853804, 0.01743683, 0.03963501,\n",
              "       0.77915665, 0.85129305, 0.88537007, 0.08468979, 0.91834402,\n",
              "       0.73977634, 0.90812025, 0.6102558 , 0.01770409, 0.89920864,\n",
              "       0.81926474, 0.7315739 , 0.66168627, 0.61684885, 0.02591329,\n",
              "       0.69016817])"
            ]
          },
          "metadata": {
            "tags": []
          },
          "execution_count": 302
        }
      ]
    },
    {
      "cell_type": "code",
      "metadata": {
        "id": "O2bzIR2bmjdf"
      },
      "source": [
        "prob_df = pd.DataFrame(y_proba)\n",
        "threshold = 0.6616\n",
        "\n",
        "prob_df['Prediction']=np.where(prob_df[0] >= threshold, 1,0)\n",
        "prob_df['y_true'] = y_test.to_list()\n",
        "\n",
        "pd.crosstab('y_true',)"
      ],
      "execution_count": null,
      "outputs": []
    },
    {
      "cell_type": "code",
      "metadata": {
        "id": "7hJpHJljvrWU",
        "colab": {
          "base_uri": "https://localhost:8080/",
          "height": 136
        },
        "outputId": "d152ba0d-ab94-4d2a-e455-2f4f6d4fec54"
      },
      "source": [
        "confusion_matrix = pd.crosstab(prob_df.Prediction,prob_df.y_true)\n",
        "confusion_matrix"
      ],
      "execution_count": null,
      "outputs": [
        {
          "output_type": "execute_result",
          "data": {
            "text/html": [
              "<div>\n",
              "<style scoped>\n",
              "    .dataframe tbody tr th:only-of-type {\n",
              "        vertical-align: middle;\n",
              "    }\n",
              "\n",
              "    .dataframe tbody tr th {\n",
              "        vertical-align: top;\n",
              "    }\n",
              "\n",
              "    .dataframe thead th {\n",
              "        text-align: right;\n",
              "    }\n",
              "</style>\n",
              "<table border=\"1\" class=\"dataframe\">\n",
              "  <thead>\n",
              "    <tr style=\"text-align: right;\">\n",
              "      <th>y_true</th>\n",
              "      <th>0</th>\n",
              "      <th>1</th>\n",
              "    </tr>\n",
              "    <tr>\n",
              "      <th>Prediction</th>\n",
              "      <th></th>\n",
              "      <th></th>\n",
              "    </tr>\n",
              "  </thead>\n",
              "  <tbody>\n",
              "    <tr>\n",
              "      <th>0</th>\n",
              "      <td>35</td>\n",
              "      <td>6</td>\n",
              "    </tr>\n",
              "    <tr>\n",
              "      <th>1</th>\n",
              "      <td>6</td>\n",
              "      <td>29</td>\n",
              "    </tr>\n",
              "  </tbody>\n",
              "</table>\n",
              "</div>"
            ],
            "text/plain": [
              "y_true       0   1\n",
              "Prediction        \n",
              "0           35   6\n",
              "1            6  29"
            ]
          },
          "metadata": {
            "tags": []
          },
          "execution_count": 312
        }
      ]
    },
    {
      "cell_type": "code",
      "metadata": {
        "id": "LA9Yky9KwotV"
      },
      "source": [
        "TN = confusion_matrix.iloc[0,0]\n",
        "TP = confusion_matrix.iloc[1,1]\n",
        "FP = confusion_matrix.iloc[1,0]\n",
        "FN = confusion_matrix.iloc[0,1]"
      ],
      "execution_count": null,
      "outputs": []
    },
    {
      "cell_type": "code",
      "metadata": {
        "colab": {
          "base_uri": "https://localhost:8080/"
        },
        "id": "6PVZl4RR0MXc",
        "outputId": "0ac756bb-19bc-4421-a78a-36b4bb93d9b5"
      },
      "source": [
        "y_test.shape"
      ],
      "execution_count": null,
      "outputs": [
        {
          "output_type": "execute_result",
          "data": {
            "text/plain": [
              "(76,)"
            ]
          },
          "metadata": {
            "tags": []
          },
          "execution_count": 325
        }
      ]
    },
    {
      "cell_type": "code",
      "metadata": {
        "id": "lcUCVV0Sxojk"
      },
      "source": [
        "Precision = TP/(TP+FP)\n",
        "Recall = TP/(TP + FN)\n",
        "Accuracy = (TP+TN)/ (TP+TN+FP+FN)\n",
        "F1=2*(Precision * Recall/ Precision + Recall )"
      ],
      "execution_count": null,
      "outputs": []
    },
    {
      "cell_type": "code",
      "metadata": {
        "colab": {
          "base_uri": "https://localhost:8080/"
        },
        "id": "7e_g7t8etBzN",
        "outputId": "189644c8-4112-4d06-843d-40973648836e"
      },
      "source": [
        "print('Precisión :', Precision)\n",
        "print('Recall :', Recall)\n",
        "print('Accuracy :', Accuracy)\n",
        "print('F1 :', F1)"
      ],
      "execution_count": null,
      "outputs": [
        {
          "output_type": "stream",
          "text": [
            "Precisión : 0.8285714285714286\n",
            "Recall : 0.8285714285714286\n",
            "Accuracy : 0.8421052631578947\n",
            "F1 : 3.3142857142857145\n"
          ],
          "name": "stdout"
        }
      ]
    },
    {
      "cell_type": "markdown",
      "metadata": {
        "id": "35glJ729u3t_"
      },
      "source": [
        "CONCLUSIONES: Si miramos el recall, el algoritmo tiene una alta probabilidad de identificar casos positivos, en este sentido personas con problemas cardiacos con un 82%\n",
        "\n",
        "De esos casos identificados el 82.8 % son realmente positivos. esto lo podemos revisar observando la Precisión del modelo.\n",
        "\n"
      ]
    },
    {
      "cell_type": "code",
      "metadata": {
        "id": "YX23uMVW3N7j"
      },
      "source": [
        ""
      ],
      "execution_count": null,
      "outputs": []
    }
  ]
}