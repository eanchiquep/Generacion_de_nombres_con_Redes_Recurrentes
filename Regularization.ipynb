{
  "nbformat": 4,
  "nbformat_minor": 0,
  "metadata": {
    "colab": {
      "name": "Regularization.ipynb",
      "provenance": [],
      "collapsed_sections": [],
      "authorship_tag": "ABX9TyP3ZY6VA4P7v3/R/trJ4N+w",
      "include_colab_link": true
    },
    "kernelspec": {
      "name": "python3",
      "display_name": "Python 3"
    },
    "language_info": {
      "name": "python"
    }
  },
  "cells": [
    {
      "cell_type": "markdown",
      "metadata": {
        "id": "view-in-github",
        "colab_type": "text"
      },
      "source": [
        "<a href=\"https://colab.research.google.com/github/eanchiquep/Machine_Learning_Google_Lab/blob/master/Regularization.ipynb\" target=\"_parent\"><img src=\"https://colab.research.google.com/assets/colab-badge.svg\" alt=\"Open In Colab\"/></a>"
      ]
    },
    {
      "cell_type": "code",
      "metadata": {
        "id": "7enCl-kEP0HU"
      },
      "source": [
        "# metodo que ayuda cuando existe overfiting, es decir variación de los resultados del modelo dispersos, pero un Score alto.\n",
        "#consiste en disminuir la complejidad del modelo, aplicando penalizaciones a las variables mas irrelevantes, vamos a intentar mantenerlas pero reduciendo su efecto, diferente a PCA\n",
        "# en donde combinabamos las mismas  y obteniamos una nuevas variables o features"
      ],
      "execution_count": null,
      "outputs": []
    },
    {
      "cell_type": "code",
      "metadata": {
        "id": "0mG8BYMWQF-f"
      },
      "source": [
        "import pandas as pd\n",
        "from google.colab import drive\n",
        "import sklearn\n",
        "import matplotlib.pyplot as plt\n",
        "from sklearn.model_selection import train_test_split\n",
        "from sklearn.linear_model import LinearRegression\n",
        "from sklearn.linear_model import Lasso # modelo que transforma features en cero, y busca disminuir la varianza, sesgando un poco el modelo lineal\n",
        "from sklearn.linear_model import Ridge # modelo que mantiene los features disminuyenso su impacto\n",
        "from sklearn.linear_model import ElasticNet # modelo combinado entre Lasso y Ridge\n",
        "from sklearn.metrics import mean_squared_error\n",
        "\n"
      ],
      "execution_count": null,
      "outputs": []
    },
    {
      "cell_type": "code",
      "metadata": {
        "colab": {
          "base_uri": "https://localhost:8080/"
        },
        "id": "6cqNEjpcT77f",
        "outputId": "668e31a0-68d2-4260-d135-6e7cb76c30a8"
      },
      "source": [
        "from google.colab import drive\n",
        "drive.mount('/content/drive/')"
      ],
      "execution_count": null,
      "outputs": [
        {
          "output_type": "stream",
          "text": [
            "Drive already mounted at /content/drive/; to attempt to forcibly remount, call drive.mount(\"/content/drive/\", force_remount=True).\n"
          ],
          "name": "stdout"
        }
      ]
    },
    {
      "cell_type": "code",
      "metadata": {
        "colab": {
          "base_uri": "https://localhost:8080/"
        },
        "id": "RC0v9EkGU0hd",
        "outputId": "786db910-b881-47b5-d74e-7e64b7dc97eb"
      },
      "source": [
        "%cd '/content/drive/My Drive/Colab Notebooks/db'\n",
        "!ls"
      ],
      "execution_count": null,
      "outputs": [
        {
          "output_type": "stream",
          "text": [
            "/content/drive/My Drive/Colab Notebooks/db\n",
            "AGRICULTURE.csv\t\t\t     happy2017.csv\t     salarios.csv\n",
            "bicicletas-compartidas.csv\t     happy2019.csv\t     test.csv\n",
            "CO2.csv\t\t\t\t     Heart.csv\t\t     test.xlsx\n",
            "covid_19_data.csv\t\t     london_merged.csv\t     titanic.png\n",
            "diabetes.csv\t\t\t     meteorite-landings.csv  titanic-test.csv\n",
            "ELECTRICAL_ENERGY.csv\t\t     meteorites_sum.csv      titanic-train.csv\n",
            "FOREST.csv\t\t\t     poblacion.csv\n",
            "GlobalLandTemperaturesByCountry.csv  PUPOLATION.csv\n"
          ],
          "name": "stdout"
        }
      ]
    },
    {
      "cell_type": "code",
      "metadata": {
        "colab": {
          "base_uri": "https://localhost:8080/",
          "height": 462
        },
        "id": "0g2L_u0OU2nd",
        "outputId": "4ff1cb7f-f914-4536-ee1f-c8d0a1ce2070"
      },
      "source": [
        "df = pd.read_csv('happy2017.csv')\n",
        "df"
      ],
      "execution_count": null,
      "outputs": [
        {
          "output_type": "execute_result",
          "data": {
            "text/html": [
              "<div>\n",
              "<style scoped>\n",
              "    .dataframe tbody tr th:only-of-type {\n",
              "        vertical-align: middle;\n",
              "    }\n",
              "\n",
              "    .dataframe tbody tr th {\n",
              "        vertical-align: top;\n",
              "    }\n",
              "\n",
              "    .dataframe thead th {\n",
              "        text-align: right;\n",
              "    }\n",
              "</style>\n",
              "<table border=\"1\" class=\"dataframe\">\n",
              "  <thead>\n",
              "    <tr style=\"text-align: right;\">\n",
              "      <th></th>\n",
              "      <th>Country</th>\n",
              "      <th>Happiness.Rank</th>\n",
              "      <th>Happiness.Score</th>\n",
              "      <th>Whisker.high</th>\n",
              "      <th>Whisker.low</th>\n",
              "      <th>Economy..GDP.per.Capita.</th>\n",
              "      <th>Family</th>\n",
              "      <th>Health..Life.Expectancy.</th>\n",
              "      <th>Freedom</th>\n",
              "      <th>Generosity</th>\n",
              "      <th>Trust..Government.Corruption.</th>\n",
              "      <th>Dystopia.Residual</th>\n",
              "    </tr>\n",
              "  </thead>\n",
              "  <tbody>\n",
              "    <tr>\n",
              "      <th>0</th>\n",
              "      <td>Norway</td>\n",
              "      <td>1</td>\n",
              "      <td>7.537</td>\n",
              "      <td>7.594445</td>\n",
              "      <td>7.479556</td>\n",
              "      <td>1.616463</td>\n",
              "      <td>1.533524</td>\n",
              "      <td>0.796667</td>\n",
              "      <td>0.635423</td>\n",
              "      <td>0.362012</td>\n",
              "      <td>0.315964</td>\n",
              "      <td>2.277027</td>\n",
              "    </tr>\n",
              "    <tr>\n",
              "      <th>1</th>\n",
              "      <td>Denmark</td>\n",
              "      <td>2</td>\n",
              "      <td>7.522</td>\n",
              "      <td>7.581728</td>\n",
              "      <td>7.462272</td>\n",
              "      <td>1.482383</td>\n",
              "      <td>1.551122</td>\n",
              "      <td>0.792566</td>\n",
              "      <td>0.626007</td>\n",
              "      <td>0.355280</td>\n",
              "      <td>0.400770</td>\n",
              "      <td>2.313707</td>\n",
              "    </tr>\n",
              "    <tr>\n",
              "      <th>2</th>\n",
              "      <td>Iceland</td>\n",
              "      <td>3</td>\n",
              "      <td>7.504</td>\n",
              "      <td>7.622030</td>\n",
              "      <td>7.385970</td>\n",
              "      <td>1.480633</td>\n",
              "      <td>1.610574</td>\n",
              "      <td>0.833552</td>\n",
              "      <td>0.627163</td>\n",
              "      <td>0.475540</td>\n",
              "      <td>0.153527</td>\n",
              "      <td>2.322715</td>\n",
              "    </tr>\n",
              "    <tr>\n",
              "      <th>3</th>\n",
              "      <td>Switzerland</td>\n",
              "      <td>4</td>\n",
              "      <td>7.494</td>\n",
              "      <td>7.561772</td>\n",
              "      <td>7.426227</td>\n",
              "      <td>1.564980</td>\n",
              "      <td>1.516912</td>\n",
              "      <td>0.858131</td>\n",
              "      <td>0.620071</td>\n",
              "      <td>0.290549</td>\n",
              "      <td>0.367007</td>\n",
              "      <td>2.276716</td>\n",
              "    </tr>\n",
              "    <tr>\n",
              "      <th>4</th>\n",
              "      <td>Finland</td>\n",
              "      <td>5</td>\n",
              "      <td>7.469</td>\n",
              "      <td>7.527542</td>\n",
              "      <td>7.410458</td>\n",
              "      <td>1.443572</td>\n",
              "      <td>1.540247</td>\n",
              "      <td>0.809158</td>\n",
              "      <td>0.617951</td>\n",
              "      <td>0.245483</td>\n",
              "      <td>0.382612</td>\n",
              "      <td>2.430182</td>\n",
              "    </tr>\n",
              "    <tr>\n",
              "      <th>...</th>\n",
              "      <td>...</td>\n",
              "      <td>...</td>\n",
              "      <td>...</td>\n",
              "      <td>...</td>\n",
              "      <td>...</td>\n",
              "      <td>...</td>\n",
              "      <td>...</td>\n",
              "      <td>...</td>\n",
              "      <td>...</td>\n",
              "      <td>...</td>\n",
              "      <td>...</td>\n",
              "      <td>...</td>\n",
              "    </tr>\n",
              "    <tr>\n",
              "      <th>150</th>\n",
              "      <td>Rwanda</td>\n",
              "      <td>151</td>\n",
              "      <td>3.471</td>\n",
              "      <td>3.543030</td>\n",
              "      <td>3.398970</td>\n",
              "      <td>0.368746</td>\n",
              "      <td>0.945707</td>\n",
              "      <td>0.326425</td>\n",
              "      <td>0.581844</td>\n",
              "      <td>0.252756</td>\n",
              "      <td>0.455220</td>\n",
              "      <td>0.540061</td>\n",
              "    </tr>\n",
              "    <tr>\n",
              "      <th>151</th>\n",
              "      <td>Syria</td>\n",
              "      <td>152</td>\n",
              "      <td>3.462</td>\n",
              "      <td>3.663669</td>\n",
              "      <td>3.260331</td>\n",
              "      <td>0.777153</td>\n",
              "      <td>0.396103</td>\n",
              "      <td>0.500533</td>\n",
              "      <td>0.081539</td>\n",
              "      <td>0.493664</td>\n",
              "      <td>0.151347</td>\n",
              "      <td>1.061574</td>\n",
              "    </tr>\n",
              "    <tr>\n",
              "      <th>152</th>\n",
              "      <td>Tanzania</td>\n",
              "      <td>153</td>\n",
              "      <td>3.349</td>\n",
              "      <td>3.461430</td>\n",
              "      <td>3.236570</td>\n",
              "      <td>0.511136</td>\n",
              "      <td>1.041990</td>\n",
              "      <td>0.364509</td>\n",
              "      <td>0.390018</td>\n",
              "      <td>0.354256</td>\n",
              "      <td>0.066035</td>\n",
              "      <td>0.621130</td>\n",
              "    </tr>\n",
              "    <tr>\n",
              "      <th>153</th>\n",
              "      <td>Burundi</td>\n",
              "      <td>154</td>\n",
              "      <td>2.905</td>\n",
              "      <td>3.074690</td>\n",
              "      <td>2.735310</td>\n",
              "      <td>0.091623</td>\n",
              "      <td>0.629794</td>\n",
              "      <td>0.151611</td>\n",
              "      <td>0.059901</td>\n",
              "      <td>0.204435</td>\n",
              "      <td>0.084148</td>\n",
              "      <td>1.683024</td>\n",
              "    </tr>\n",
              "    <tr>\n",
              "      <th>154</th>\n",
              "      <td>Central African Republic</td>\n",
              "      <td>155</td>\n",
              "      <td>2.693</td>\n",
              "      <td>2.864884</td>\n",
              "      <td>2.521116</td>\n",
              "      <td>0.000000</td>\n",
              "      <td>0.000000</td>\n",
              "      <td>0.018773</td>\n",
              "      <td>0.270842</td>\n",
              "      <td>0.280876</td>\n",
              "      <td>0.056565</td>\n",
              "      <td>2.066005</td>\n",
              "    </tr>\n",
              "  </tbody>\n",
              "</table>\n",
              "<p>155 rows × 12 columns</p>\n",
              "</div>"
            ],
            "text/plain": [
              "                      Country  ...  Dystopia.Residual\n",
              "0                      Norway  ...           2.277027\n",
              "1                     Denmark  ...           2.313707\n",
              "2                     Iceland  ...           2.322715\n",
              "3                 Switzerland  ...           2.276716\n",
              "4                     Finland  ...           2.430182\n",
              "..                        ...  ...                ...\n",
              "150                    Rwanda  ...           0.540061\n",
              "151                     Syria  ...           1.061574\n",
              "152                  Tanzania  ...           0.621130\n",
              "153                   Burundi  ...           1.683024\n",
              "154  Central African Republic  ...           2.066005\n",
              "\n",
              "[155 rows x 12 columns]"
            ]
          },
          "metadata": {
            "tags": []
          },
          "execution_count": 67
        }
      ]
    },
    {
      "cell_type": "code",
      "metadata": {
        "colab": {
          "base_uri": "https://localhost:8080/"
        },
        "id": "X0H_iJfaZDrS",
        "outputId": "b8719baa-d1eb-477a-ac75-ad9c11a9cd48"
      },
      "source": [
        "df.isnull().sum()"
      ],
      "execution_count": null,
      "outputs": [
        {
          "output_type": "execute_result",
          "data": {
            "text/plain": [
              "Country                          0\n",
              "Happiness.Rank                   0\n",
              "Happiness.Score                  0\n",
              "Whisker.high                     0\n",
              "Whisker.low                      0\n",
              "Economy..GDP.per.Capita.         0\n",
              "Family                           0\n",
              "Health..Life.Expectancy.         0\n",
              "Freedom                          0\n",
              "Generosity                       0\n",
              "Trust..Government.Corruption.    0\n",
              "Dystopia.Residual                0\n",
              "dtype: int64"
            ]
          },
          "metadata": {
            "tags": []
          },
          "execution_count": 68
        }
      ]
    },
    {
      "cell_type": "code",
      "metadata": {
        "id": "eyi8OUsMW98Z"
      },
      "source": [
        "df = df.drop(['Happiness.Rank','Country','Whisker.high','Whisker.low'], axis=1)"
      ],
      "execution_count": null,
      "outputs": []
    },
    {
      "cell_type": "code",
      "metadata": {
        "colab": {
          "base_uri": "https://localhost:8080/",
          "height": 427
        },
        "id": "ZeqZ_KcyXkyT",
        "outputId": "d23e9e2b-7c98-4ebc-f60f-9f814294468f"
      },
      "source": [
        "df"
      ],
      "execution_count": null,
      "outputs": [
        {
          "output_type": "execute_result",
          "data": {
            "text/html": [
              "<div>\n",
              "<style scoped>\n",
              "    .dataframe tbody tr th:only-of-type {\n",
              "        vertical-align: middle;\n",
              "    }\n",
              "\n",
              "    .dataframe tbody tr th {\n",
              "        vertical-align: top;\n",
              "    }\n",
              "\n",
              "    .dataframe thead th {\n",
              "        text-align: right;\n",
              "    }\n",
              "</style>\n",
              "<table border=\"1\" class=\"dataframe\">\n",
              "  <thead>\n",
              "    <tr style=\"text-align: right;\">\n",
              "      <th></th>\n",
              "      <th>Happiness.Score</th>\n",
              "      <th>Economy..GDP.per.Capita.</th>\n",
              "      <th>Family</th>\n",
              "      <th>Health..Life.Expectancy.</th>\n",
              "      <th>Freedom</th>\n",
              "      <th>Generosity</th>\n",
              "      <th>Trust..Government.Corruption.</th>\n",
              "      <th>Dystopia.Residual</th>\n",
              "    </tr>\n",
              "  </thead>\n",
              "  <tbody>\n",
              "    <tr>\n",
              "      <th>0</th>\n",
              "      <td>7.537</td>\n",
              "      <td>1.616463</td>\n",
              "      <td>1.533524</td>\n",
              "      <td>0.796667</td>\n",
              "      <td>0.635423</td>\n",
              "      <td>0.362012</td>\n",
              "      <td>0.315964</td>\n",
              "      <td>2.277027</td>\n",
              "    </tr>\n",
              "    <tr>\n",
              "      <th>1</th>\n",
              "      <td>7.522</td>\n",
              "      <td>1.482383</td>\n",
              "      <td>1.551122</td>\n",
              "      <td>0.792566</td>\n",
              "      <td>0.626007</td>\n",
              "      <td>0.355280</td>\n",
              "      <td>0.400770</td>\n",
              "      <td>2.313707</td>\n",
              "    </tr>\n",
              "    <tr>\n",
              "      <th>2</th>\n",
              "      <td>7.504</td>\n",
              "      <td>1.480633</td>\n",
              "      <td>1.610574</td>\n",
              "      <td>0.833552</td>\n",
              "      <td>0.627163</td>\n",
              "      <td>0.475540</td>\n",
              "      <td>0.153527</td>\n",
              "      <td>2.322715</td>\n",
              "    </tr>\n",
              "    <tr>\n",
              "      <th>3</th>\n",
              "      <td>7.494</td>\n",
              "      <td>1.564980</td>\n",
              "      <td>1.516912</td>\n",
              "      <td>0.858131</td>\n",
              "      <td>0.620071</td>\n",
              "      <td>0.290549</td>\n",
              "      <td>0.367007</td>\n",
              "      <td>2.276716</td>\n",
              "    </tr>\n",
              "    <tr>\n",
              "      <th>4</th>\n",
              "      <td>7.469</td>\n",
              "      <td>1.443572</td>\n",
              "      <td>1.540247</td>\n",
              "      <td>0.809158</td>\n",
              "      <td>0.617951</td>\n",
              "      <td>0.245483</td>\n",
              "      <td>0.382612</td>\n",
              "      <td>2.430182</td>\n",
              "    </tr>\n",
              "    <tr>\n",
              "      <th>...</th>\n",
              "      <td>...</td>\n",
              "      <td>...</td>\n",
              "      <td>...</td>\n",
              "      <td>...</td>\n",
              "      <td>...</td>\n",
              "      <td>...</td>\n",
              "      <td>...</td>\n",
              "      <td>...</td>\n",
              "    </tr>\n",
              "    <tr>\n",
              "      <th>150</th>\n",
              "      <td>3.471</td>\n",
              "      <td>0.368746</td>\n",
              "      <td>0.945707</td>\n",
              "      <td>0.326425</td>\n",
              "      <td>0.581844</td>\n",
              "      <td>0.252756</td>\n",
              "      <td>0.455220</td>\n",
              "      <td>0.540061</td>\n",
              "    </tr>\n",
              "    <tr>\n",
              "      <th>151</th>\n",
              "      <td>3.462</td>\n",
              "      <td>0.777153</td>\n",
              "      <td>0.396103</td>\n",
              "      <td>0.500533</td>\n",
              "      <td>0.081539</td>\n",
              "      <td>0.493664</td>\n",
              "      <td>0.151347</td>\n",
              "      <td>1.061574</td>\n",
              "    </tr>\n",
              "    <tr>\n",
              "      <th>152</th>\n",
              "      <td>3.349</td>\n",
              "      <td>0.511136</td>\n",
              "      <td>1.041990</td>\n",
              "      <td>0.364509</td>\n",
              "      <td>0.390018</td>\n",
              "      <td>0.354256</td>\n",
              "      <td>0.066035</td>\n",
              "      <td>0.621130</td>\n",
              "    </tr>\n",
              "    <tr>\n",
              "      <th>153</th>\n",
              "      <td>2.905</td>\n",
              "      <td>0.091623</td>\n",
              "      <td>0.629794</td>\n",
              "      <td>0.151611</td>\n",
              "      <td>0.059901</td>\n",
              "      <td>0.204435</td>\n",
              "      <td>0.084148</td>\n",
              "      <td>1.683024</td>\n",
              "    </tr>\n",
              "    <tr>\n",
              "      <th>154</th>\n",
              "      <td>2.693</td>\n",
              "      <td>0.000000</td>\n",
              "      <td>0.000000</td>\n",
              "      <td>0.018773</td>\n",
              "      <td>0.270842</td>\n",
              "      <td>0.280876</td>\n",
              "      <td>0.056565</td>\n",
              "      <td>2.066005</td>\n",
              "    </tr>\n",
              "  </tbody>\n",
              "</table>\n",
              "<p>155 rows × 8 columns</p>\n",
              "</div>"
            ],
            "text/plain": [
              "     Happiness.Score  ...  Dystopia.Residual\n",
              "0              7.537  ...           2.277027\n",
              "1              7.522  ...           2.313707\n",
              "2              7.504  ...           2.322715\n",
              "3              7.494  ...           2.276716\n",
              "4              7.469  ...           2.430182\n",
              "..               ...  ...                ...\n",
              "150            3.471  ...           0.540061\n",
              "151            3.462  ...           1.061574\n",
              "152            3.349  ...           0.621130\n",
              "153            2.905  ...           1.683024\n",
              "154            2.693  ...           2.066005\n",
              "\n",
              "[155 rows x 8 columns]"
            ]
          },
          "metadata": {
            "tags": []
          },
          "execution_count": 70
        }
      ]
    },
    {
      "cell_type": "code",
      "metadata": {
        "colab": {
          "base_uri": "https://localhost:8080/",
          "height": 308
        },
        "id": "yMyzZkOFXwd-",
        "outputId": "4d9f66ea-a108-45bf-db89-11e7c431aaf5"
      },
      "source": [
        "df.describe()"
      ],
      "execution_count": null,
      "outputs": [
        {
          "output_type": "execute_result",
          "data": {
            "text/html": [
              "<div>\n",
              "<style scoped>\n",
              "    .dataframe tbody tr th:only-of-type {\n",
              "        vertical-align: middle;\n",
              "    }\n",
              "\n",
              "    .dataframe tbody tr th {\n",
              "        vertical-align: top;\n",
              "    }\n",
              "\n",
              "    .dataframe thead th {\n",
              "        text-align: right;\n",
              "    }\n",
              "</style>\n",
              "<table border=\"1\" class=\"dataframe\">\n",
              "  <thead>\n",
              "    <tr style=\"text-align: right;\">\n",
              "      <th></th>\n",
              "      <th>Happiness.Score</th>\n",
              "      <th>Economy..GDP.per.Capita.</th>\n",
              "      <th>Family</th>\n",
              "      <th>Health..Life.Expectancy.</th>\n",
              "      <th>Freedom</th>\n",
              "      <th>Generosity</th>\n",
              "      <th>Trust..Government.Corruption.</th>\n",
              "      <th>Dystopia.Residual</th>\n",
              "    </tr>\n",
              "  </thead>\n",
              "  <tbody>\n",
              "    <tr>\n",
              "      <th>count</th>\n",
              "      <td>155.000000</td>\n",
              "      <td>155.000000</td>\n",
              "      <td>155.000000</td>\n",
              "      <td>155.000000</td>\n",
              "      <td>155.000000</td>\n",
              "      <td>155.000000</td>\n",
              "      <td>155.000000</td>\n",
              "      <td>155.000000</td>\n",
              "    </tr>\n",
              "    <tr>\n",
              "      <th>mean</th>\n",
              "      <td>5.354019</td>\n",
              "      <td>0.984718</td>\n",
              "      <td>1.188898</td>\n",
              "      <td>0.551341</td>\n",
              "      <td>0.408786</td>\n",
              "      <td>0.246883</td>\n",
              "      <td>0.123120</td>\n",
              "      <td>1.850238</td>\n",
              "    </tr>\n",
              "    <tr>\n",
              "      <th>std</th>\n",
              "      <td>1.131230</td>\n",
              "      <td>0.420793</td>\n",
              "      <td>0.287263</td>\n",
              "      <td>0.237073</td>\n",
              "      <td>0.149997</td>\n",
              "      <td>0.134780</td>\n",
              "      <td>0.101661</td>\n",
              "      <td>0.500028</td>\n",
              "    </tr>\n",
              "    <tr>\n",
              "      <th>min</th>\n",
              "      <td>2.693000</td>\n",
              "      <td>0.000000</td>\n",
              "      <td>0.000000</td>\n",
              "      <td>0.000000</td>\n",
              "      <td>0.000000</td>\n",
              "      <td>0.000000</td>\n",
              "      <td>0.000000</td>\n",
              "      <td>0.377914</td>\n",
              "    </tr>\n",
              "    <tr>\n",
              "      <th>25%</th>\n",
              "      <td>4.505500</td>\n",
              "      <td>0.663371</td>\n",
              "      <td>1.042635</td>\n",
              "      <td>0.369866</td>\n",
              "      <td>0.303677</td>\n",
              "      <td>0.154106</td>\n",
              "      <td>0.057271</td>\n",
              "      <td>1.591291</td>\n",
              "    </tr>\n",
              "    <tr>\n",
              "      <th>50%</th>\n",
              "      <td>5.279000</td>\n",
              "      <td>1.064578</td>\n",
              "      <td>1.253918</td>\n",
              "      <td>0.606042</td>\n",
              "      <td>0.437454</td>\n",
              "      <td>0.231538</td>\n",
              "      <td>0.089848</td>\n",
              "      <td>1.832910</td>\n",
              "    </tr>\n",
              "    <tr>\n",
              "      <th>75%</th>\n",
              "      <td>6.101500</td>\n",
              "      <td>1.318027</td>\n",
              "      <td>1.414316</td>\n",
              "      <td>0.723008</td>\n",
              "      <td>0.516561</td>\n",
              "      <td>0.323762</td>\n",
              "      <td>0.153296</td>\n",
              "      <td>2.144654</td>\n",
              "    </tr>\n",
              "    <tr>\n",
              "      <th>max</th>\n",
              "      <td>7.537000</td>\n",
              "      <td>1.870766</td>\n",
              "      <td>1.610574</td>\n",
              "      <td>0.949492</td>\n",
              "      <td>0.658249</td>\n",
              "      <td>0.838075</td>\n",
              "      <td>0.464308</td>\n",
              "      <td>3.117485</td>\n",
              "    </tr>\n",
              "  </tbody>\n",
              "</table>\n",
              "</div>"
            ],
            "text/plain": [
              "       Happiness.Score  ...  Dystopia.Residual\n",
              "count       155.000000  ...         155.000000\n",
              "mean          5.354019  ...           1.850238\n",
              "std           1.131230  ...           0.500028\n",
              "min           2.693000  ...           0.377914\n",
              "25%           4.505500  ...           1.591291\n",
              "50%           5.279000  ...           1.832910\n",
              "75%           6.101500  ...           2.144654\n",
              "max           7.537000  ...           3.117485\n",
              "\n",
              "[8 rows x 8 columns]"
            ]
          },
          "metadata": {
            "tags": []
          },
          "execution_count": 71
        }
      ]
    },
    {
      "cell_type": "code",
      "metadata": {
        "colab": {
          "base_uri": "https://localhost:8080/"
        },
        "id": "WAURxJd1kpeg",
        "outputId": "48f94169-1688-47a0-ed45-8d465283b66f"
      },
      "source": [
        "df.columns"
      ],
      "execution_count": null,
      "outputs": [
        {
          "output_type": "execute_result",
          "data": {
            "text/plain": [
              "Index(['Happiness.Score', 'Economy..GDP.per.Capita.', 'Family',\n",
              "       'Health..Life.Expectancy.', 'Freedom', 'Generosity',\n",
              "       'Trust..Government.Corruption.', 'Dystopia.Residual'],\n",
              "      dtype='object')"
            ]
          },
          "metadata": {
            "tags": []
          },
          "execution_count": 72
        }
      ]
    },
    {
      "cell_type": "code",
      "metadata": {
        "id": "PxiB_9BzX2vs"
      },
      "source": [
        "X = df.loc[:,['Economy..GDP.per.Capita.', 'Family',\n",
        "       'Health..Life.Expectancy.', 'Freedom', 'Generosity',\n",
        "       'Trust..Government.Corruption.', 'Dystopia.Residual']]\n",
        "y = df['Happiness.Score']"
      ],
      "execution_count": null,
      "outputs": []
    },
    {
      "cell_type": "code",
      "metadata": {
        "id": "drtr1pOAY6_R"
      },
      "source": [
        "X_train, X_test, y_train, y_test = train_test_split(X,y, test_size = 0.3, random_state = 0)"
      ],
      "execution_count": null,
      "outputs": []
    },
    {
      "cell_type": "markdown",
      "metadata": {
        "id": "Hvf3FcabaV0V"
      },
      "source": [
        "Modelo Linear sin utilizar regularizadores"
      ]
    },
    {
      "cell_type": "code",
      "metadata": {
        "colab": {
          "base_uri": "https://localhost:8080/"
        },
        "id": "362Yz8qPZwyf",
        "outputId": "754ea8ab-f72c-4d71-9326-f02fdb999281"
      },
      "source": [
        "model_linear = LinearRegression()\n",
        "model_linear.fit(X_train,y_train)\n",
        "y_predit_linear = model_linear.predict(X_test)\n",
        "model_linear_loss = mean_squared_error(y_test,y_predit_linear)\n",
        "model_linear_loss"
      ],
      "execution_count": null,
      "outputs": [
        {
          "output_type": "execute_result",
          "data": {
            "text/plain": [
              "9.48767860528123e-08"
            ]
          },
          "metadata": {
            "tags": []
          },
          "execution_count": 75
        }
      ]
    },
    {
      "cell_type": "markdown",
      "metadata": {
        "id": "htEPinsPaqty"
      },
      "source": [
        "regularizador Lasso"
      ]
    },
    {
      "cell_type": "code",
      "metadata": {
        "colab": {
          "base_uri": "https://localhost:8080/"
        },
        "id": "vwoRVytIap6O",
        "outputId": "b6f83541-8cab-419c-880b-48388e0c7491"
      },
      "source": [
        "model_lasso = Lasso(alpha=0.02) # entre mas grande sea el alpha, mas penalización utilizamos para nuestros features\n",
        "model_lasso.fit(X_train,y_train)\n",
        "y_predit_lasso = model_lasso.predict(X_test)\n",
        "model_lasso_loss = mean_squared_error(y_test,y_predit_lasso)\n",
        "model_lasso_loss \n"
      ],
      "execution_count": null,
      "outputs": [
        {
          "output_type": "execute_result",
          "data": {
            "text/plain": [
              "0.04136597628967692"
            ]
          },
          "metadata": {
            "tags": []
          },
          "execution_count": 76
        }
      ]
    },
    {
      "cell_type": "code",
      "metadata": {
        "colab": {
          "base_uri": "https://localhost:8080/"
        },
        "id": "EMo6Uqa-f6hG",
        "outputId": "6302a54d-0d03-41b6-bd63-bcf0fb0af39f"
      },
      "source": [
        "#coeficiente de lasso\n",
        "\n",
        "model_lasso.coef_"
      ],
      "execution_count": null,
      "outputs": [
        {
          "output_type": "execute_result",
          "data": {
            "text/plain": [
              "array([1.32674203, 0.85140601, 0.43713646, 0.89531439, 0.19058121,\n",
              "       0.        , 0.91744247])"
            ]
          },
          "metadata": {
            "tags": []
          },
          "execution_count": 77
        }
      ]
    },
    {
      "cell_type": "markdown",
      "metadata": {
        "id": "Wl-yIDDbfbRs"
      },
      "source": [
        "Regularizador ridge"
      ]
    },
    {
      "cell_type": "code",
      "metadata": {
        "colab": {
          "base_uri": "https://localhost:8080/"
        },
        "id": "Ktj5wPvQdnAU",
        "outputId": "badbc7a2-8155-4e3d-9f13-75da355fc458"
      },
      "source": [
        "model_ridge = Ridge(alpha=1)\n",
        "model_ridge.fit(X_train,y_train)\n",
        "y_predit_ridge = model_ridge.predict(X_test)\n",
        "model_ridge_loss = mean_squared_error(y_test,y_predit_ridge)\n",
        "model_ridge_loss"
      ],
      "execution_count": null,
      "outputs": [
        {
          "output_type": "execute_result",
          "data": {
            "text/plain": [
              "0.005117094025053429"
            ]
          },
          "metadata": {
            "tags": []
          },
          "execution_count": 78
        }
      ]
    },
    {
      "cell_type": "code",
      "metadata": {
        "colab": {
          "base_uri": "https://localhost:8080/"
        },
        "id": "c9B5TGPrd8bF",
        "outputId": "d7cc2b29-ea6e-4c3b-ba8a-35f66609d891"
      },
      "source": [
        "#coeficiente de ridge\n",
        "model_ridge.coef_"
      ],
      "execution_count": null,
      "outputs": [
        {
          "output_type": "execute_result",
          "data": {
            "text/plain": [
              "array([1.08725768, 0.94531187, 0.84762845, 0.90900483, 0.74095991,\n",
              "       0.63710038, 0.9658033 ])"
            ]
          },
          "metadata": {
            "tags": []
          },
          "execution_count": 79
        }
      ]
    },
    {
      "cell_type": "markdown",
      "metadata": {
        "id": "vgH3RTWS00SS"
      },
      "source": [
        "Regularizador Elasticnet"
      ]
    },
    {
      "cell_type": "code",
      "metadata": {
        "colab": {
          "base_uri": "https://localhost:8080/"
        },
        "id": "GuHbuvOL03_U",
        "outputId": "6d4e6fd1-c402-4c22-ba95-a40e78167f8f"
      },
      "source": [
        "model_elasticnet = ElasticNet(random_state=0)\n",
        "model_elasticnet.fit(X_train, y_train)\n",
        "y_predict_elastic = model_elasticnet.predict(X_test)\n",
        "model_elastic_loss = mean_squared_error(y_test,y_predict_elastic)\n",
        "model_elastic_loss"
      ],
      "execution_count": null,
      "outputs": [
        {
          "output_type": "execute_result",
          "data": {
            "text/plain": [
              "1.0859710440565193"
            ]
          },
          "metadata": {
            "tags": []
          },
          "execution_count": 101
        }
      ]
    },
    {
      "cell_type": "code",
      "metadata": {
        "colab": {
          "base_uri": "https://localhost:8080/",
          "height": 297
        },
        "id": "6gP2WRk_lB8W",
        "outputId": "4c16092a-b56a-499b-89ba-938cd9e49dd5"
      },
      "source": [
        "y_mins_linear = (y_test - y_predit_linear)**2\n",
        "y_mins_lasso = (y_test - y_predit_lasso)**2\n",
        "y_mins_ridge = (y_test - y_predit_ridge)**2\n",
        "y_mins_elastic = (y_test - y_predict_elastic)**2\n",
        "x_graff = range(len(y_test))\n",
        "plt.scatter(x_graff,y_mins_linear, c='#1f7')\n",
        "plt.scatter(x_graff,y_mins_lasso)\n",
        "plt.scatter(x_graff,y_mins_ridge)\n",
        "plt.scatter(x_graff,y_mins_elastic)\n",
        "plt.xlabel('# of samples')\n",
        "plt.ylabel('# squared_error')\n",
        "label = ['Linear_model','Lasso_model','Ridge_model','Elastic_model']\n",
        "plt.legend(label)\n"
      ],
      "execution_count": null,
      "outputs": [
        {
          "output_type": "execute_result",
          "data": {
            "text/plain": [
              "<matplotlib.legend.Legend at 0x7fa311beaa90>"
            ]
          },
          "metadata": {
            "tags": []
          },
          "execution_count": 107
        },
        {
          "output_type": "display_data",
          "data": {
            "image/png": "[encoded data removed]",
            "text/plain": [
              "<Figure size 432x288 with 1 Axes>"
            ]
          },
          "metadata": {
            "tags": [],
            "needs_background": "light"
          }
        }
      ]
    }
  ]
}